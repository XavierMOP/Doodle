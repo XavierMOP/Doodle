{
 "metadata": {
  "language_info": {
   "codemirror_mode": {
    "name": "ipython",
    "version": 3
   },
   "file_extension": ".py",
   "mimetype": "text/x-python",
   "name": "python",
   "nbconvert_exporter": "python",
   "pygments_lexer": "ipython3",
   "version": 3
  },
  "orig_nbformat": 2,
  "kernelspec": {
   "name": "python_defaultSpec_1597005478373",
   "display_name": "Python 3.8.3 64-bit ('base': conda)"
  }
 },
 "nbformat": 4,
 "nbformat_minor": 2,
 "cells": [
  {
   "cell_type": "code",
   "execution_count": 62,
   "metadata": {},
   "outputs": [
    {
     "output_type": "execute_result",
     "data": {
      "text/plain": "['1', '22', '333', '4444', '55555']"
     },
     "metadata": {},
     "execution_count": 62
    }
   ],
   "source": [
    "s = '1,22,333,4444,55555'\n",
    "s1 = s.split(',')\n",
    "s1"
   ]
  },
  {
   "cell_type": "code",
   "execution_count": 63,
   "metadata": {
    "tags": []
   },
   "outputs": [
    {
     "output_type": "stream",
     "name": "stdout",
     "text": "1\n22\n333\n4444\n55555\n"
    }
   ],
   "source": [
    "for i in s1:\n",
    "    print(i)"
   ]
  },
  {
   "cell_type": "code",
   "execution_count": 64,
   "metadata": {
    "tags": []
   },
   "outputs": [
    {
     "output_type": "stream",
     "name": "stdout",
     "text": "(0, '1')\n(1, '22')\n(2, '333')\n(3, '4444')\n(4, '55555')\n"
    }
   ],
   "source": [
    "for a in enumerate(s1):\n",
    "    print(a)"
   ]
  },
  {
   "cell_type": "code",
   "execution_count": 65,
   "metadata": {
    "tags": []
   },
   "outputs": [
    {
     "output_type": "stream",
     "name": "stdout",
     "text": "0 1\n1 22\n2 333\n3 4444\n4 55555\n"
    }
   ],
   "source": [
    "for a, b in enumerate(s1):\n",
    "    print(a, b)"
   ]
  },
  {
   "cell_type": "code",
   "execution_count": 66,
   "metadata": {
    "tags": []
   },
   "outputs": [
    {
     "output_type": "stream",
     "name": "stdout",
     "text": "3 1\n4 22\n5 333\n6 4444\n7 55555\n"
    }
   ],
   "source": [
    "for a, b in enumerate(s1, start=3):\n",
    "    print(a, b)"
   ]
  },
  {
   "cell_type": "code",
   "execution_count": 67,
   "metadata": {},
   "outputs": [
    {
     "output_type": "execute_result",
     "data": {
      "text/plain": "['55555', '4444', '333', '22', '1']"
     },
     "metadata": {},
     "execution_count": 67
    }
   ],
   "source": [
    "s1[::-1]\n",
    "# [start:end:step]"
   ]
  },
  {
   "cell_type": "code",
   "execution_count": 68,
   "metadata": {},
   "outputs": [
    {
     "output_type": "execute_result",
     "data": {
      "text/plain": "['1', '22', '333', '4444', '55555', 'False']"
     },
     "metadata": {},
     "execution_count": 68
    }
   ],
   "source": [
    "s1.append('False')\n",
    "s1"
   ]
  },
  {
   "cell_type": "code",
   "execution_count": 69,
   "metadata": {},
   "outputs": [
    {
     "output_type": "execute_result",
     "data": {
      "text/plain": "[True, '1', '22', '333', '4444', '55555', 'False']"
     },
     "metadata": {},
     "execution_count": 69
    }
   ],
   "source": [
    "s1.insert(0, True)\n",
    "s1"
   ]
  },
  {
   "cell_type": "code",
   "execution_count": 70,
   "metadata": {},
   "outputs": [
    {
     "output_type": "execute_result",
     "data": {
      "text/plain": "<_io.TextIOWrapper name='time_series_covid19_confirmed_global.csv' mode='r' encoding='utf-8'>"
     },
     "metadata": {},
     "execution_count": 70
    }
   ],
   "source": [
    "FILE_PATH = 'time_series_covid19_confirmed_global.csv'\n",
    "\n",
    "f = open(file=FILE_PATH, mode='r', encoding='utf-8')\n",
    "f"
   ]
  },
  {
   "cell_type": "code",
   "execution_count": 71,
   "metadata": {},
   "outputs": [],
   "source": [
    "data = f.read()"
   ]
  },
  {
   "cell_type": "code",
   "execution_count": 72,
   "metadata": {},
   "outputs": [],
   "source": [
    "f.close()"
   ]
  },
  {
   "cell_type": "code",
   "execution_count": null,
   "metadata": {},
   "outputs": [],
   "source": [
    "with open(file=FILE_PATH, mode='r', encoding='utf-8') as f:\n",
    "    # with statement contains open and automatic close\n",
    "    data = f.read()"
   ]
  },
  {
   "cell_type": "code",
   "execution_count": 78,
   "metadata": {},
   "outputs": [
    {
     "output_type": "execute_result",
     "data": {
      "text/plain": "    Province/State         Country/Region        Lat       Long  1/22/20  \\\n0              NaN            Afghanistan  33.939110  67.709953        0   \n1              NaN                Albania  41.153300  20.168300        0   \n2              NaN                Algeria  28.033900   1.659600        0   \n3              NaN                Andorra  42.506300   1.521800        0   \n4              NaN                 Angola -11.202700  17.873900        0   \n..             ...                    ...        ...        ...      ...   \n261            NaN  Sao Tome and Principe   0.186400   6.613100        0   \n262            NaN                  Yemen  15.552727  48.516388        0   \n263            NaN                Comoros -11.645500  43.333300        0   \n264            NaN             Tajikistan  38.861000  71.276100        0   \n265            NaN                Lesotho -29.610000  28.233600        0   \n\n     1/23/20  1/24/20  1/25/20  1/26/20  1/27/20  ...  7/30/20  7/31/20  \\\n0          0        0        0        0        0  ...    36542    36675   \n1          0        0        0        0        0  ...     5197     5276   \n2          0        0        0        0        0  ...    29831    30394   \n3          0        0        0        0        0  ...      922      925   \n4          0        0        0        0        0  ...     1109     1148   \n..       ...      ...      ...      ...      ...  ...      ...      ...   \n261        0        0        0        0        0  ...      870      871   \n262        0        0        0        0        0  ...     1726     1728   \n263        0        0        0        0        0  ...      378      378   \n264        0        0        0        0        0  ...     7366     7409   \n265        0        0        0        0        0  ...      604      604   \n\n     8/1/20  8/2/20  8/3/20  8/4/20  8/5/20  8/6/20  8/7/20  8/8/20  \n0     36710   36710   36747   36782   36829   36896   37015   37054  \n1      5396    5519    5620    5750    5889    6016    6151    6275  \n2     30950   31465   31972   32504   33055   33626   34155   34693  \n3       925     925     937     939     939     944     955     955  \n4      1164    1199    1280    1344    1395    1483    1538    1572  \n..      ...     ...     ...     ...     ...     ...     ...     ...  \n261     874     874     874     875     878     878     878     878  \n262    1730    1734    1734    1760    1763    1768    1796    1797  \n263     386     386     386     388     388     396     396     399  \n264    7451    7495    7538    7583    7625    7665    7706    7706  \n265     702     718     718     726     726     742     742     742  \n\n[266 rows x 204 columns]",
      "text/html": "<div>\n<style scoped>\n    .dataframe tbody tr th:only-of-type {\n        vertical-align: middle;\n    }\n\n    .dataframe tbody tr th {\n        vertical-align: top;\n    }\n\n    .dataframe thead th {\n        text-align: right;\n    }\n</style>\n<table border=\"1\" class=\"dataframe\">\n  <thead>\n    <tr style=\"text-align: right;\">\n      <th></th>\n      <th>Province/State</th>\n      <th>Country/Region</th>\n      <th>Lat</th>\n      <th>Long</th>\n      <th>1/22/20</th>\n      <th>1/23/20</th>\n      <th>1/24/20</th>\n      <th>1/25/20</th>\n      <th>1/26/20</th>\n      <th>1/27/20</th>\n      <th>...</th>\n      <th>7/30/20</th>\n      <th>7/31/20</th>\n      <th>8/1/20</th>\n      <th>8/2/20</th>\n      <th>8/3/20</th>\n      <th>8/4/20</th>\n      <th>8/5/20</th>\n      <th>8/6/20</th>\n      <th>8/7/20</th>\n      <th>8/8/20</th>\n    </tr>\n  </thead>\n  <tbody>\n    <tr>\n      <th>0</th>\n      <td>NaN</td>\n      <td>Afghanistan</td>\n      <td>33.939110</td>\n      <td>67.709953</td>\n      <td>0</td>\n      <td>0</td>\n      <td>0</td>\n      <td>0</td>\n      <td>0</td>\n      <td>0</td>\n      <td>...</td>\n      <td>36542</td>\n      <td>36675</td>\n      <td>36710</td>\n      <td>36710</td>\n      <td>36747</td>\n      <td>36782</td>\n      <td>36829</td>\n      <td>36896</td>\n      <td>37015</td>\n      <td>37054</td>\n    </tr>\n    <tr>\n      <th>1</th>\n      <td>NaN</td>\n      <td>Albania</td>\n      <td>41.153300</td>\n      <td>20.168300</td>\n      <td>0</td>\n      <td>0</td>\n      <td>0</td>\n      <td>0</td>\n      <td>0</td>\n      <td>0</td>\n      <td>...</td>\n      <td>5197</td>\n      <td>5276</td>\n      <td>5396</td>\n      <td>5519</td>\n      <td>5620</td>\n      <td>5750</td>\n      <td>5889</td>\n      <td>6016</td>\n      <td>6151</td>\n      <td>6275</td>\n    </tr>\n    <tr>\n      <th>2</th>\n      <td>NaN</td>\n      <td>Algeria</td>\n      <td>28.033900</td>\n      <td>1.659600</td>\n      <td>0</td>\n      <td>0</td>\n      <td>0</td>\n      <td>0</td>\n      <td>0</td>\n      <td>0</td>\n      <td>...</td>\n      <td>29831</td>\n      <td>30394</td>\n      <td>30950</td>\n      <td>31465</td>\n      <td>31972</td>\n      <td>32504</td>\n      <td>33055</td>\n      <td>33626</td>\n      <td>34155</td>\n      <td>34693</td>\n    </tr>\n    <tr>\n      <th>3</th>\n      <td>NaN</td>\n      <td>Andorra</td>\n      <td>42.506300</td>\n      <td>1.521800</td>\n      <td>0</td>\n      <td>0</td>\n      <td>0</td>\n      <td>0</td>\n      <td>0</td>\n      <td>0</td>\n      <td>...</td>\n      <td>922</td>\n      <td>925</td>\n      <td>925</td>\n      <td>925</td>\n      <td>937</td>\n      <td>939</td>\n      <td>939</td>\n      <td>944</td>\n      <td>955</td>\n      <td>955</td>\n    </tr>\n    <tr>\n      <th>4</th>\n      <td>NaN</td>\n      <td>Angola</td>\n      <td>-11.202700</td>\n      <td>17.873900</td>\n      <td>0</td>\n      <td>0</td>\n      <td>0</td>\n      <td>0</td>\n      <td>0</td>\n      <td>0</td>\n      <td>...</td>\n      <td>1109</td>\n      <td>1148</td>\n      <td>1164</td>\n      <td>1199</td>\n      <td>1280</td>\n      <td>1344</td>\n      <td>1395</td>\n      <td>1483</td>\n      <td>1538</td>\n      <td>1572</td>\n    </tr>\n    <tr>\n      <th>...</th>\n      <td>...</td>\n      <td>...</td>\n      <td>...</td>\n      <td>...</td>\n      <td>...</td>\n      <td>...</td>\n      <td>...</td>\n      <td>...</td>\n      <td>...</td>\n      <td>...</td>\n      <td>...</td>\n      <td>...</td>\n      <td>...</td>\n      <td>...</td>\n      <td>...</td>\n      <td>...</td>\n      <td>...</td>\n      <td>...</td>\n      <td>...</td>\n      <td>...</td>\n      <td>...</td>\n    </tr>\n    <tr>\n      <th>261</th>\n      <td>NaN</td>\n      <td>Sao Tome and Principe</td>\n      <td>0.186400</td>\n      <td>6.613100</td>\n      <td>0</td>\n      <td>0</td>\n      <td>0</td>\n      <td>0</td>\n      <td>0</td>\n      <td>0</td>\n      <td>...</td>\n      <td>870</td>\n      <td>871</td>\n      <td>874</td>\n      <td>874</td>\n      <td>874</td>\n      <td>875</td>\n      <td>878</td>\n      <td>878</td>\n      <td>878</td>\n      <td>878</td>\n    </tr>\n    <tr>\n      <th>262</th>\n      <td>NaN</td>\n      <td>Yemen</td>\n      <td>15.552727</td>\n      <td>48.516388</td>\n      <td>0</td>\n      <td>0</td>\n      <td>0</td>\n      <td>0</td>\n      <td>0</td>\n      <td>0</td>\n      <td>...</td>\n      <td>1726</td>\n      <td>1728</td>\n      <td>1730</td>\n      <td>1734</td>\n      <td>1734</td>\n      <td>1760</td>\n      <td>1763</td>\n      <td>1768</td>\n      <td>1796</td>\n      <td>1797</td>\n    </tr>\n    <tr>\n      <th>263</th>\n      <td>NaN</td>\n      <td>Comoros</td>\n      <td>-11.645500</td>\n      <td>43.333300</td>\n      <td>0</td>\n      <td>0</td>\n      <td>0</td>\n      <td>0</td>\n      <td>0</td>\n      <td>0</td>\n      <td>...</td>\n      <td>378</td>\n      <td>378</td>\n      <td>386</td>\n      <td>386</td>\n      <td>386</td>\n      <td>388</td>\n      <td>388</td>\n      <td>396</td>\n      <td>396</td>\n      <td>399</td>\n    </tr>\n    <tr>\n      <th>264</th>\n      <td>NaN</td>\n      <td>Tajikistan</td>\n      <td>38.861000</td>\n      <td>71.276100</td>\n      <td>0</td>\n      <td>0</td>\n      <td>0</td>\n      <td>0</td>\n      <td>0</td>\n      <td>0</td>\n      <td>...</td>\n      <td>7366</td>\n      <td>7409</td>\n      <td>7451</td>\n      <td>7495</td>\n      <td>7538</td>\n      <td>7583</td>\n      <td>7625</td>\n      <td>7665</td>\n      <td>7706</td>\n      <td>7706</td>\n    </tr>\n    <tr>\n      <th>265</th>\n      <td>NaN</td>\n      <td>Lesotho</td>\n      <td>-29.610000</td>\n      <td>28.233600</td>\n      <td>0</td>\n      <td>0</td>\n      <td>0</td>\n      <td>0</td>\n      <td>0</td>\n      <td>0</td>\n      <td>...</td>\n      <td>604</td>\n      <td>604</td>\n      <td>702</td>\n      <td>718</td>\n      <td>718</td>\n      <td>726</td>\n      <td>726</td>\n      <td>742</td>\n      <td>742</td>\n      <td>742</td>\n    </tr>\n  </tbody>\n</table>\n<p>266 rows × 204 columns</p>\n</div>"
     },
     "metadata": {},
     "execution_count": 78
    }
   ],
   "source": [
    "import pandas as pd\n",
    "df = pd.read_csv(FILE_PATH, encoding='utf-8')\n",
    "df"
   ]
  }
 ]
}