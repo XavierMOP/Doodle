{
 "nbformat": 4,
 "nbformat_minor": 2,
 "metadata": {
  "language_info": {
   "name": "python",
   "codemirror_mode": {
    "name": "ipython",
    "version": 3
   },
   "version": "3.7.7-final"
  },
  "orig_nbformat": 2,
  "file_extension": ".py",
  "mimetype": "text/x-python",
  "name": "python",
  "npconvert_exporter": "python",
  "pygments_lexer": "ipython3",
  "version": 3,
  "kernelspec": {
   "name": "python3",
   "display_name": "Python 3"
  }
 },
 "cells": [
  {
   "cell_type": "markdown",
   "metadata": {},
   "source": [
    "- ## **Prime List**"
   ]
  },
  {
   "cell_type": "code",
   "execution_count": null,
   "metadata": {},
   "outputs": [],
   "source": [
    "prime = []\n",
    "\n",
    "for x in range(2, 200):\n",
    "    for i in range(2, round(x ** 0.5) + 1):\n",
    "        if x % i == 0:\n",
    "            break\n",
    "    else:\n",
    "        prime.append(x)\n",
    "\n",
    "\n",
    "print(prime)"
   ]
  },
  {
   "cell_type": "markdown",
   "metadata": {},
   "source": [
    "- ## **At least 2 students with the same birth date**"
   ]
  },
  {
   "cell_type": "code",
   "execution_count": 1,
   "metadata": {},
   "outputs": [
    {
     "output_type": "stream",
     "name": "stdout",
     "text": "1 0.0 %\n2 0.2739726027397249 %\n3 0.8204165884781345 %\n4 1.6355912466550326 %\n5 2.713557369979358 %\n6 4.046248364911154 %\n7 5.623570309597536 %\n8 7.433529235166903 %\n9 9.462383388916674 %\n10 11.694817771107768 %\n11 14.114137832173302 %\n12 16.70247888380644 %\n13 19.441027523242937 %\n14 22.310251200497298 %\n15 25.290131976368635 %\n16 28.36040052528499 %\n17 31.500766529656065 %\n18 34.691141787178935 %\n19 37.911852603153676 %\n20 41.14383835805799 %\n21 44.36883351652058 %\n22 47.569530766255006 %\n23 50.72972343239854 %\n24 53.83442579145288 %\n25 56.86997039694639 %\n26 59.8240820135939 %\n27 62.685928226324194 %\n28 65.44614723423993 %\n29 68.0968537477777 %\n30 70.63162427192687 %\n31 73.04546337286439 %\n32 75.33475278503207 %\n33 77.4971854175772 %\n34 79.53168646201543 %\n35 81.43832388747153 %\n36 83.21821063798795 %\n37 84.87340082163846 %\n38 86.40678210821208 %\n39 87.8219664366722 %\n40 89.1231809817949 %\n41 90.31516114817354 %\n42 91.40304715618693 %\n43 92.39228556561199 %\n44 93.28853685514264 %\n45 94.0975899465775 %\n46 94.82528433672547 %\n47 95.47744028332994 %\n48 96.05979728794225 %\n49 96.57796093226764 %\n50 97.03735795779885 %\n51 97.44319933344283 %\n52 97.80045093342753 %\n53 98.11381134839128 %\n54 98.38769627588515 %\n55 98.62622888164461 %\n56 98.83323548852007 %\n57 99.01224593411699 %\n58 99.16649793892613 %\n59 99.2989448417817 %\n60 99.4122660865348 %\n61 99.50887988052908 %\n62 99.59095748953655 %\n63 99.66043868309472 %\n64 99.71904789669756 %\n65 99.76831073124922 %\n66 99.80957046404045 %\n67 99.84400429793997 %\n68 99.87263912544141 %\n69 99.89636663083863 %\n70 99.91595759651571 %\n71 99.93207531773187 %\n72 99.94528806414567 %\n73 99.95608055560187 %\n74 99.96486444448149 %\n75 99.97198781738113 %\n76 99.97774374531652 %\n77 99.9823779243739 %\n78 99.98609545813612 %\n79 99.98906683968511 %\n80 99.99143319493135 %\n81 99.9933108508368 %\n82 99.99479529215796 %\n83 99.99596456898823 %\n84 99.99688221494432 %\n85 99.99759973260097 %\n86 99.99815869898157 %\n87 99.99859253976948 %\n88 99.99892801659155 %\n89 99.99918646738591 %\n90 99.99938483561236 %\n91 99.99953651998192 %\n92 99.99965207253437 %\n93 99.99973976932023 %\n94 99.99980607467151 %\n95 99.99985601708488 %\n96 99.99989349209018 %\n97 99.99992150512948 %\n98 99.99994236541013 %\n99 99.99995783990275 %\n100 99.99996927510722 %\n1 1\n2 2\n3 6\n4 24\n5 120\n6 720\n7 5040\n8 40320\n9 362880\n10 3628800\n11 39916800\n12 479001600\n13 6227020800\n14 87178291200\n15 1307674368000\n16 20922789888000\n17 355687428096000\n18 6402373705728000\n19 121645100408832000\n20 2432902008176640000\n21 51090942171709440000\n22 1124000727777607680000\n23 25852016738884976640000\n24 620448401733239439360000\n25 15511210043330985984000000\n26 403291461126605635584000000\n27 10888869450418352160768000000\n28 304888344611713860501504000000\n29 8841761993739701954543616000000\n30 265252859812191058636308480000000\n31 8222838654177922817725562880000000\n32 263130836933693530167218012160000000\n33 8683317618811886495518194401280000000\n34 295232799039604140847618609643520000000\n35 10333147966386144929666651337523200000000\n"
    }
   ],
   "source": [
    "from math import factorial\n",
    "\n",
    "def samebirthday(number):\n",
    "    probability = 1 - (factorial(365)) / (factorial(365 - number) * (365 ** number))\n",
    "    return probability * 100\n",
    "\n",
    "\n",
    "for i in range(1,101):\n",
    "    print(i, str(samebirthday(i)) + ' %')\n",
    "\n",
    "for a in range(1, 36):\n",
    "    print(a, factorial(a))\n",
    "\n",
    "# More general situation: m available options, n choices, at least 2 are same.\n",
    "# Probability = 1 - m! / ((m - n)! * (m ** n))\n",
    "# or\n",
    "# Probability = 1 - (mCn) * n! / (m ** n)"
   ]
  },
  {
   "cell_type": "markdown",
   "metadata": {},
   "source": [
    "- ## **Sieve of Eratosthenes**"
   ],
   "execution_count": null,
   "outputs": []
  },
  {
   "cell_type": "code",
   "execution_count": null,
   "metadata": {},
   "outputs": [],
   "source": [
    "sieve = [True] * 101\n",
    "for i in range(2, 100):\n",
    "    if sieve[i]:\n",
    "        print(i)\n",
    "        for j in range(i * i, 100, i):\n",
    "            sieve[j] = False"
   ]
  },
  {
   "cell_type": "markdown",
   "metadata": {},
   "source": [
    "- ## **Emoji in Python**\n",
    "\n",
    "### Emoji\n",
    "\n",
    "Change + to 000, add \\ before U\n",
    "\n",
    "Sites:\n",
    "\n",
    "[Emoji Unicode Tables](http://www.unicode.org/emoji/charts/full-emoji-list.html)\n",
    "\n",
    "[Full Emoji List, v13.0](https://apps.timwhitlock.info/emoji/tables/unicode#block-6c-other-additional-symbols)"
   ],
   "execution_count": null,
   "outputs": []
  },
  {
   "cell_type": "code",
   "execution_count": null,
   "metadata": {},
   "outputs": [],
   "source": [
    "sample_list = ['\\U0001F601', '\\U0001F605', '\\U0001F602', '\\U0001F642', '\\U0001F643', '\\U0001F609', '\\U0001F60A', '\\U0001F607', ]\n",
    "\n",
    "print(sample_list)"
   ]
  },
  {
   "cell_type": "markdown",
   "metadata": {},
   "source": [
    "- ## **Binary to ASCII**"
   ],
   "execution_count": null,
   "outputs": []
  },
  {
   "cell_type": "code",
   "execution_count": null,
   "metadata": {},
   "outputs": [],
   "source": [
    "import binascii\n",
    "\n",
    "print('*****\\n')\n",
    "\n",
    "b1 = binascii.a2b_uu('a')\n",
    "b2 = binascii.unhexlify('aa')\n",
    "b3 = bin(235689)\n",
    "b4 = binascii.a2b_qp('033na')\n",
    "b5 = binascii.a2b_qp(\"zaq1xsw2cde3\")\n",
    "\n",
    "print(b1)\n",
    "print(b2)\n",
    "print(b3)\n",
    "print(b4)\n",
    "print(b5)\n",
    "print(\"\\n\")\n",
    ""
   ]
  },
  {
   "cell_type": "markdown",
   "metadata": {},
   "source": [
    "## **Sys package**"
   ],
   "execution_count": null,
   "outputs": []
  },
  {
   "cell_type": "code",
   "execution_count": null,
   "metadata": {},
   "outputs": [],
   "source": [
    "import sys\n",
    "\n",
    "print(sys.version_info)\n",
    "print(sys.version)"
   ]
  }
 ]
}