{
 "nbformat": 4,
 "nbformat_minor": 2,
 "metadata": {
  "language_info": {
   "name": "python",
   "codemirror_mode": {
    "name": "ipython",
    "version": 3
   },
   "version": "3.7.6-final"
  },
  "orig_nbformat": 2,
  "file_extension": ".py",
  "mimetype": "text/x-python",
  "name": "python",
  "npconvert_exporter": "python",
  "pygments_lexer": "ipython3",
  "version": 3,
  "kernelspec": {
   "name": "python3",
   "display_name": "Python 3"
  }
 },
 "cells": [
  {
   "cell_type": "markdown",
   "metadata": {},
   "source": [
    "# 1. set()"
   ]
  },
  {
   "cell_type": "code",
   "execution_count": 30,
   "metadata": {},
   "outputs": [
    {
     "output_type": "stream",
     "name": "stdout",
     "text": "{'c', 'b', 'a'}\n"
    }
   ],
   "source": [
    "# 对一个列表进行去重操作。\n",
    "\n",
    "obj = ['a','b','c','b','a']\n",
    "print(set(obj))\n",
    "# 输出：{'b', 'c', 'a'}\n",
    "\n",
    "# set([iterable]) 用于创建一个集合，集合里的元素是无序且不重复的。"
   ]
  },
  {
   "cell_type": "code",
   "execution_count": 31,
   "metadata": {},
   "outputs": [
    {
     "output_type": "stream",
     "name": "stdout",
     "text": "{'d', 'r', 'o', 'l', 'h', 'w', 'e'}\n{'o', 'l'}\n{'e', 'h'}\n"
    }
   ],
   "source": [
    "# 集合对象创建后，还能使用并集、交集、差集功能。\n",
    "\n",
    "A = set('hello')\n",
    "B = set('world')\n",
    "\n",
    "print(A.union(B)) # 并集，输出：{'d', 'e', 'h', 'l', 'o', 'r', 'w'}\n",
    "print(A.intersection(B)) # 交集，输出：{'l', 'o'}\n",
    "print(A.difference(B)) # 差集，输出：{'d', 'r', 'w'}"
   ]
  },
  {
   "cell_type": "markdown",
   "metadata": {},
   "source": [
    "# 2. eval()"
   ]
  },
  {
   "cell_type": "code",
   "execution_count": 32,
   "metadata": {},
   "outputs": [
    {
     "output_type": "stream",
     "name": "stdout",
     "text": "56\n"
    }
   ],
   "source": [
    "# 用 python 写一个四则运算器，输入字符串公式，直接产生结果。\n",
    "\n",
    "x = input('sss')\n",
    "print(eval(x))\n",
    "\n",
    "# input a math equation"
   ]
  },
  {
   "cell_type": "code",
   "execution_count": 33,
   "metadata": {},
   "outputs": [
    {
     "output_type": "stream",
     "name": "stdout",
     "text": "<class 'list'>\n5\n"
    }
   ],
   "source": [
    "# eval(str_expression) 作用是将字符串转换成表达式，并且执行。\n",
    "\n",
    "a = eval('[1,2,3]')\n",
    "print(type(a))\n",
    "# 输出：<class 'list'>\n",
    "\n",
    "b = eval('max([2,4,5])')\n",
    "print(b)\n",
    "# 输出：5"
   ]
  },
  {
   "cell_type": "markdown",
   "metadata": {},
   "source": [
    "# 3. sorted()"
   ]
  },
  {
   "cell_type": "code",
   "execution_count": 34,
   "metadata": {},
   "outputs": [
    {
     "output_type": "stream",
     "name": "stdout",
     "text": "[1, 2, 3, 4, 7, 9]\n[9, 6, 4, 1]\n['pear', 'apple', 'banana', 'watermelon']\n[('A', 1, 5), ('C', 2, 6), ('B', 3, 2)]\n"
    }
   ],
   "source": [
    "# 在处理数据过程中，我们经常会用到排序操作，比如将列表、字典、元组里面的元素正 / 倒排序。\n",
    "\n",
    "# 这时候就需要用到 sorted()  ，它可以对任何可迭代对象进行排序，并返回列表。\n",
    "\n",
    "# 对列表升序操作：\n",
    "\n",
    "a = sorted([2,4,3,7,1,9])\n",
    "print(a)\n",
    "# 输出：[1, 2, 3, 4, 7, 9]\n",
    "\n",
    "# 对元组倒序操作：\n",
    "\n",
    "b = sorted((4,1,9,6),reverse=True)\n",
    "print(b)\n",
    "# 输出：[9, 6, 4, 1]\n",
    "\n",
    "# 使用参数：key，根据自定义规则，按字符串长度来排序：\n",
    "\n",
    "chars = ['apple','watermelon','pear','banana']\n",
    "c = sorted(chars,key=lambda x:len(x))\n",
    "print(c)\n",
    "# 输出：['pear', 'apple', 'banana', 'watermelon']\n",
    "\n",
    "# 根据自定义规则，对元组构成的列表进行排序：\n",
    "\n",
    "tuple_list = [('A', 1,5), ('B', 3,2), ('C', 2,6)]\n",
    "# key=lambda x: x[1]中可以任意选定x中可选的位置进行排序\n",
    "d = sorted(tuple_list, key=lambda x: x[1])\n",
    "print(d)\n",
    "# 输出：[('A', 1, 5), ('C', 2, 6), ('B', 3, 2)]"
   ]
  },
  {
   "cell_type": "markdown",
   "metadata": {},
   "source": [
    "# 4. reversed()"
   ]
  },
  {
   "cell_type": "code",
   "execution_count": 35,
   "metadata": {},
   "outputs": [
    {
     "output_type": "stream",
     "name": "stdout",
     "text": "['e', 'd', 'c', 'b', 'a']\n[5, 4, 3, 2]\n"
    }
   ],
   "source": [
    "# 如果需要对序列的元素进行反转操作，reversed() 函数能帮到你。\n",
    "\n",
    "# reversed() 接受一个序列，将序列里的元素反转，并最终返回迭代器。\n",
    "\n",
    "a = reversed('abcde')\n",
    "print(list(a))\n",
    "# 输出：['e', 'd', 'c', 'b', 'a']\n",
    "\n",
    "b = reversed([2,3,4,5])\n",
    "print(list(b))\n",
    "# 输出：[5, 4, 3, 2]"
   ]
  },
  {
   "cell_type": "markdown",
   "metadata": {},
   "source": [
    "# 5. map()"
   ]
  },
  {
   "cell_type": "code",
   "execution_count": 36,
   "metadata": {},
   "outputs": [
    {
     "output_type": "stream",
     "name": "stdout",
     "text": "['APPLE', 'WATERMELON', 'PEAR', 'BANANA']\n[1, 4, 9, 16]\n"
    }
   ],
   "source": [
    "# 做文本处理的时候，假如要对序列里的每个单词进行大写转化操作。\n",
    "\n",
    "# 这个时候就可以使用 map() 函数。\n",
    "\n",
    "chars = ['apple','watermelon','pear','banana']\n",
    "a = map(lambda x:x.upper(),chars)\n",
    "print(list(a))\n",
    "\n",
    "# 输出：['APPLE', 'WATERMELON', 'PEAR', 'BANANA']\n",
    "\n",
    "# map() 会根据提供的函数，对指定的序列做映射，最终返回迭代器。\n",
    "\n",
    "# 也就是说 map() 函数会把序列里的每一个元素用指定的方法加工一遍，最终返回给你加工好的序列。\n",
    "\n",
    "# 举个例子，对列表里的每个数字作平方处理：\n",
    "\n",
    "nums = [1,2,3,4]\n",
    "a = map(lambda x:x*x,nums)\n",
    "print(list(a))\n",
    "# 输出：[1, 4, 9, 16]"
   ]
  },
  {
   "cell_type": "markdown",
   "metadata": {},
   "source": [
    "# 6. reduce()"
   ]
  },
  {
   "cell_type": "code",
   "execution_count": 37,
   "metadata": {},
   "outputs": [
    {
     "output_type": "stream",
     "name": "stdout",
     "text": "24\napple\n"
    }
   ],
   "source": [
    "# 前面说到对列表里的每个数字作平方处理，用 map() 函数。\n",
    "\n",
    "# 那我想将列表里的每个元素相乘，该怎么做呢？\n",
    "\n",
    "# 这时候用到 reduce() 函数。\n",
    "\n",
    "from functools import reduce\n",
    "nums = [1,2,3,4]\n",
    "a = reduce(lambda x,y:x*y,nums)\n",
    "print(a)\n",
    "# 输出：24\n",
    "\n",
    "# reduce() 会对参数序列中元素进行累积。\n",
    "\n",
    "# 第一、第二个元素先进行函数操作，生成的结果再和第三个元素进行函数操作，以此类推，最终生成所有元素累积运算的结果。\n",
    "\n",
    "# 再举个例子，将字母连接成字符串。\n",
    "\n",
    "from functools import reduce\n",
    "chars = ['a','p','p','l','e']\n",
    "a = reduce(lambda x,y:x+y,chars)\n",
    "print(a)\n",
    "# 输出：apple\n",
    "\n",
    "# 你可能已经注意到，reduce() 函数在 python3 里已经不再是内置函数，而是迁移到了 functools 模块中。\n",
    "\n",
    "# 这里把 reduce() 函数拎出来讲，是因为它太重要了。"
   ]
  },
  {
   "cell_type": "markdown",
   "metadata": {},
   "source": [
    "# 7. filter()"
   ]
  },
  {
   "cell_type": "code",
   "execution_count": 38,
   "metadata": {},
   "outputs": [
    {
     "output_type": "stream",
     "name": "stdout",
     "text": "[1, 3, 5]\n['watermelon']\n"
    }
   ],
   "source": [
    "# 一些数字组成的列表，要把其中偶数去掉，该怎么做呢？\n",
    "\n",
    "nums = [1,2,3,4,5,6]\n",
    "a = filter(lambda x:x%2!=0,nums)\n",
    "print(list(a))\n",
    "# 输出：[1,3,5]\n",
    "\n",
    "# filter() 函数轻松完成了任务，它用于过滤序列，过滤掉不符合条件的元素，返回一个迭代器对象。\n",
    "\n",
    "# filter() 函数和 map()、reduce() 函数类似，都是将序列里的每个元素映射到函数，最终返回结果。\n",
    "\n",
    "# 我们再试试，如何从许多单词里挑出包含字母 w 的单词。\n",
    "\n",
    "chars = chars = ['apple','watermelon','pear','banana']\n",
    "a = filter(lambda x:'w'in x,chars)\n",
    "print(list(a))\n",
    "# 输出：['watermelon']"
   ]
  },
  {
   "cell_type": "markdown",
   "metadata": {},
   "source": [
    "# 8. enumerate()"
   ]
  },
  {
   "cell_type": "code",
   "execution_count": 39,
   "metadata": {},
   "outputs": [
    {
     "output_type": "stream",
     "name": "stdout",
     "text": "0 apple\n1 watermelon\n2 pear\n3 banana\n[(0, 'a'), (1, 'b'), (2, 'c'), (3, 'd')]\n"
    }
   ],
   "source": [
    "# 这样一个场景，同时打印出序列里每一个元素和它对应的顺序号，我们用 enumerate() 函数做做看。\n",
    "\n",
    "chars = ['apple','watermelon','pear','banana']\n",
    "for i,j in enumerate(chars):\n",
    "    print(i,j)\n",
    "\n",
    "'''\n",
    "输出：\n",
    "0 apple\n",
    "1 watermelon\n",
    "2 pear\n",
    "3 banana\n",
    "'''\n",
    "\n",
    "# enumerate 翻译过来是枚举、列举的意思，所以说 enumerate() 函数用于对序列里的元素进行顺序标注，返回 (元素、索引) 组成的迭代器。\n",
    "\n",
    "# 再举个例子说明，对字符串进行标注，返回每个字母和其索引。\n",
    "\n",
    "a = enumerate('abcd')\n",
    "print(list(a))\n",
    "# 输出：[(0, 'a'), (1, 'b'), (2, 'c'), (3, 'd')]"
   ]
  }
 ]
}