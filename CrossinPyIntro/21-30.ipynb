{
 "nbformat": 4,
 "nbformat_minor": 2,
 "metadata": {
  "language_info": {
   "name": "python",
   "codemirror_mode": {
    "name": "ipython",
    "version": 3
   },
   "version": "3.7.7-final"
  },
  "orig_nbformat": 2,
  "file_extension": ".py",
  "mimetype": "text/x-python",
  "name": "python",
  "npconvert_exporter": "python",
  "pygments_lexer": "ipython3",
  "version": 3,
  "kernelspec": {
   "name": "python3",
   "display_name": "Python 3"
  }
 },
 "cells": [
  {
   "cell_type": "markdown",
   "metadata": {},
   "source": [
    "## 21-30\n",
    "- arguments\n",
    "- if, elif, else\n",
    "- if nest\n",
    "- list & opeartions\n",
    "- string & operations"
   ]
  },
  {
   "cell_type": "markdown",
   "metadata": {},
   "source": [
    "https://python666.cn/cls/lesson/list/"
   ]
  },
  {
   "cell_type": "code",
   "execution_count": 31,
   "metadata": {},
   "outputs": [
    {
     "output_type": "stream",
     "name": "stdout",
     "text": "Guess what I think?\ntoo small\ntoo big\ntoo small\ntoo small\ntoo small\ntoo small\ntoo small\ntoo small\ntoo small\ntoo big\nbingo! The number is 74.\n"
    }
   ],
   "source": [
    "def isEqual(num1, num2):\n",
    "   if num1<num2:\n",
    "       print ('too small')\n",
    "       return False\n",
    "   if num1>num2:\n",
    "       print ('too big')\n",
    "       return False\n",
    "   if num1==num2:\n",
    "       print ('bingo! The number is %d.' % num)\n",
    "       return True\n",
    "\n",
    "from random import randint\n",
    "num = randint(1, 100)\n",
    "print('Guess what I think?')\n",
    "bingo = False\n",
    "while bingo == False:\n",
    "   answer = int(input())\n",
    "   bingo = isEqual(answer, num)"
   ]
  },
  {
   "cell_type": "markdown",
   "metadata": {},
   "source": [
    "这里说一下，return 是函数的结束语句，return 后面的值被作为这个函数的返回值。函数中任何地方的 return 被执行到的时候，这个函数就会立刻结束并跳出。\n",
    "\n",
    "注意：函数的 返回值 和我们前面说的 输出 是两回事。print 输出是将结果显示在控制台中，最终一定是转成字符类型；而 返回值，是将结果返回到调用函数的地方，可以是任何类型。"
   ]
  },
  {
   "cell_type": "code",
   "execution_count": null,
   "metadata": {},
   "outputs": [],
   "source": [
    "def isEqual(num1, num2):\n",
    "   if num1<num2:\n",
    "       print ('too small')\n",
    "       return False;\n",
    "   elif num1>num2:\n",
    "       print ('too big')\n",
    "       return False;\n",
    "   else:\n",
    "       print ('bingo')\n",
    "       return True"
   ]
  },
  {
   "cell_type": "code",
   "execution_count": 7,
   "metadata": {},
   "outputs": [
    {
     "output_type": "stream",
     "name": "stdout",
     "text": "1st quadrant\n"
    }
   ],
   "source": [
    "x = float(input('x coordinate'))\n",
    "y = float(input('y coordinate'))\n",
    "\n",
    "if y >= 0:\n",
    "   if x >= 0:\n",
    "       print ('1st quadrant')\n",
    "   else:\n",
    "       print ('2nd quadrant')\n",
    "else:\n",
    "   if x < 0:\n",
    "       print ('3rd quadrant')\n",
    "   else:\n",
    "       print ('4th quadrant')\n",
    ""
   ]
  },
  {
   "cell_type": "code",
   "execution_count": 11,
   "metadata": {},
   "outputs": [
    {
     "output_type": "stream",
     "name": "stdout",
     "text": "[1, 2, 3, 4, 5, 6, 7, 8, 9]\n(1, 2, 3, 4, 5, 6, 7, 8, 9)\nrange(1, 10)\n"
    }
   ],
   "source": [
    "print(list(range(1,10)))\n",
    "print(tuple(range(1,10)))\n",
    "print(range(1,10))"
   ]
  },
  {
   "cell_type": "code",
   "execution_count": 13,
   "metadata": {},
   "outputs": [
    {
     "output_type": "stream",
     "name": "stdout",
     "text": "2\n2\n4\n6\n10\n16\n26\n42\n68\n"
    }
   ],
   "source": [
    "list_1 = [1, 1, 2, 3, 5, 8, 13, 21, 34]\n",
    "\n",
    "for item in list_1:\n",
    "    print(item * 2)"
   ]
  },
  {
   "cell_type": "code",
   "execution_count": 14,
   "metadata": {},
   "outputs": [
    {
     "output_type": "stream",
     "name": "stdout",
     "text": "365\neveryday\n0.618\nTrue\n"
    }
   ],
   "source": [
    "list_2 = [365, 'everyday', 0.618, True]\n",
    "\n",
    "for item_2 in list_2:\n",
    "    print(item_2)"
   ]
  },
  {
   "cell_type": "code",
   "execution_count": 25,
   "metadata": {},
   "outputs": [
    {
     "output_type": "stream",
     "name": "stdout",
     "text": "aaa\n<class 'str'>\naaa\n"
    },
    {
     "output_type": "execute_result",
     "data": {
      "text/plain": "NoneType"
     },
     "metadata": {},
     "execution_count": 25
    }
   ],
   "source": [
    "print('aaa')\n",
    "type('aaa')\n",
    "print(type('aaa'))\n",
    "type(print('aaa'))"
   ]
  },
  {
   "cell_type": "code",
   "execution_count": 26,
   "metadata": {},
   "outputs": [
    {
     "output_type": "stream",
     "name": "stdout",
     "text": "aaa\n<class 'str'>\naaa\naaa\n<class 'NoneType'>\n"
    }
   ],
   "source": [
    "print('aaa')\n",
    "type('aaa')\n",
    "print(type('aaa'))\n",
    "type(print('aaa'))\n",
    "print(type(print('aaa')))"
   ]
  },
  {
   "cell_type": "code",
   "execution_count": 33,
   "metadata": {},
   "outputs": [],
   "source": [
    "# penalty shoot\n",
    "\n",
    "# 每一轮，你先输入一个方向射门，然后电脑随机判断一个方向扑救。方向不同则算进球得分，方向相同算扑救成功，不得分。\n",
    "\n",
    "# 之后攻守轮换，你选择一个方向扑救，电脑随机方向射门。\n",
    "\n",
    "# 第 5 轮结束之后，如果得分不同，比赛结束。\n",
    "\n",
    "# 5 轮之内，如果一方即使踢进剩下所有球，也无法达到另一方当前得分，比赛结束。\n",
    "\n",
    "# 5 论之后平分，比赛继续进行，直到某一轮分出胜负。"
   ]
  },
  {
   "cell_type": "code",
   "execution_count": 194,
   "metadata": {},
   "outputs": [
    {
     "output_type": "execute_result",
     "data": {
      "text/plain": "5"
     },
     "metadata": {},
     "execution_count": 194
    }
   ],
   "source": [
    "round(5)"
   ]
  }
 ]
}