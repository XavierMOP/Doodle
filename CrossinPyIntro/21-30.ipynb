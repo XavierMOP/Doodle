{
 "cells": [
  {
   "cell_type": "markdown",
   "metadata": {},
   "source": [
    "## 21-30\n",
    "- arguments\n",
    "- if, elif, else\n",
    "- if nest\n",
    "- list & opeartions\n",
    "- string & operations"
   ]
  },
  {
   "cell_type": "markdown",
   "metadata": {},
   "source": [
    "https://python666.cn/cls/lesson/list/"
   ]
  },
  {
   "cell_type": "code",
   "execution_count": 31,
   "metadata": {},
   "outputs": [
    {
     "output_type": "stream",
     "name": "stdout",
     "text": "Guess what I think?\ntoo small\ntoo big\ntoo small\ntoo small\ntoo small\ntoo small\ntoo small\ntoo small\ntoo small\ntoo big\nbingo! The number is 74.\n"
    }
   ],
   "source": [
    "def isEqual(num1, num2):\n",
    "   if num1<num2:\n",
    "       print ('too small')\n",
    "       return False\n",
    "   if num1>num2:\n",
    "       print ('too big')\n",
    "       return False\n",
    "   if num1==num2:\n",
    "       print ('bingo! The number is %d.' % num)\n",
    "       return True\n",
    "\n",
    "from random import randint\n",
    "num = randint(1, 100)\n",
    "print('Guess what I think?')\n",
    "bingo = False\n",
    "while bingo == False:\n",
    "   answer = int(input())\n",
    "   bingo = isEqual(answer, num)"
   ]
  },
  {
   "cell_type": "markdown",
   "metadata": {},
   "source": [
    "这里说一下，return 是函数的结束语句，return 后面的值被作为这个函数的返回值。函数中任何地方的 return 被执行到的时候，这个函数就会立刻结束并跳出。\n",
    "\n",
    "注意：函数的 返回值 和我们前面说的 输出 是两回事。print 输出是将结果显示在控制台中，最终一定是转成字符类型；而 返回值，是将结果返回到调用函数的地方，可以是任何类型。"
   ]
  },
  {
   "cell_type": "code",
   "execution_count": null,
   "metadata": {},
   "outputs": [],
   "source": [
    "def isEqual(num1, num2):\n",
    "   if num1<num2:\n",
    "       print ('too small')\n",
    "       return False;\n",
    "   elif num1>num2:\n",
    "       print ('too big')\n",
    "       return False;\n",
    "   else:\n",
    "       print ('bingo')\n",
    "       return True"
   ]
  },
  {
   "cell_type": "code",
   "execution_count": 7,
   "metadata": {},
   "outputs": [
    {
     "output_type": "stream",
     "name": "stdout",
     "text": "1st quadrant\n"
    }
   ],
   "source": [
    "x = float(input('x coordinate'))\n",
    "y = float(input('y coordinate'))\n",
    "\n",
    "if y >= 0:\n",
    "   if x >= 0:\n",
    "       print ('1st quadrant')\n",
    "   else:\n",
    "       print ('2nd quadrant')\n",
    "else:\n",
    "   if x < 0:\n",
    "       print ('3rd quadrant')\n",
    "   else:\n",
    "       print ('4th quadrant')\n",
    ""
   ]
  },
  {
   "cell_type": "code",
   "execution_count": 11,
   "metadata": {},
   "outputs": [
    {
     "output_type": "stream",
     "name": "stdout",
     "text": "[1, 2, 3, 4, 5, 6, 7, 8, 9]\n(1, 2, 3, 4, 5, 6, 7, 8, 9)\nrange(1, 10)\n"
    }
   ],
   "source": [
    "print(list(range(1,10)))\n",
    "print(tuple(range(1,10)))\n",
    "print(range(1,10))"
   ]
  },
  {
   "cell_type": "code",
   "execution_count": 13,
   "metadata": {},
   "outputs": [
    {
     "output_type": "stream",
     "name": "stdout",
     "text": "2\n2\n4\n6\n10\n16\n26\n42\n68\n"
    }
   ],
   "source": [
    "list_1 = [1, 1, 2, 3, 5, 8, 13, 21, 34]\n",
    "\n",
    "for item in list_1:\n",
    "    print(item * 2)"
   ]
  },
  {
   "cell_type": "code",
   "execution_count": 14,
   "metadata": {},
   "outputs": [
    {
     "output_type": "stream",
     "name": "stdout",
     "text": "365\neveryday\n0.618\nTrue\n"
    }
   ],
   "source": [
    "list_2 = [365, 'everyday', 0.618, True]\n",
    "\n",
    "for item_2 in list_2:\n",
    "    print(item_2)"
   ]
  },
  {
   "cell_type": "code",
   "execution_count": 1,
   "metadata": {},
   "outputs": [
    {
     "output_type": "stream",
     "name": "stdout",
     "text": "aaa\n<class 'str'>\naaa\n"
    },
    {
     "output_type": "execute_result",
     "data": {
      "text/plain": "NoneType"
     },
     "metadata": {},
     "execution_count": 1
    }
   ],
   "source": [
    "print('aaa')\n",
    "type('aaa')\n",
    "print(type('aaa'))\n",
    "type(print('aaa'))"
   ]
  },
  {
   "cell_type": "code",
   "execution_count": 26,
   "metadata": {},
   "outputs": [
    {
     "output_type": "stream",
     "name": "stdout",
     "text": "aaa\n<class 'str'>\naaa\naaa\n<class 'NoneType'>\n"
    }
   ],
   "source": [
    "print('aaa')\n",
    "type('aaa')\n",
    "print(type('aaa'))\n",
    "type(print('aaa'))\n",
    "print(type(print('aaa')))"
   ]
  },
  {
   "cell_type": "code",
   "execution_count": 6,
   "metadata": {},
   "outputs": [
    {
     "output_type": "stream",
     "name": "stdout",
     "text": "[365, 'everyday', 0.618, True]\neveryday\n[123, 'everyday', 0.618, True]\n[123, 'everyday', 0.618, True, 1024]\n['everyday', 0.618, True, 1024]\n"
    }
   ],
   "source": [
    "list_2 = [365, 'everyday', 0.618, True]\n",
    "print(list_2)\n",
    "print(list_2[1])\n",
    "list_2[0] = 123\n",
    "print(list_2)\n",
    "list_2.append(1024)\n",
    "print(list_2)\n",
    "del list_2[0]\n",
    "print(list_2)"
   ]
  },
  {
   "cell_type": "code",
   "execution_count": 19,
   "metadata": {},
   "outputs": [
    {
     "output_type": "stream",
     "name": "stdout",
     "text": "asdf\n"
    }
   ],
   "source": [
    "from random import choice\n",
    "\n",
    "list_3 = [123, 3.14159, 'asdf', True]\n",
    "\n",
    "print(choice(list_3))"
   ]
  },
  {
   "cell_type": "code",
   "execution_count": 25,
   "metadata": {},
   "outputs": [
    {
     "output_type": "stream",
     "name": "stdout",
     "text": "True\n[True, 'asdf', 3.14159, 123]\n[123, 3.14159]\n[123, 3.14159, 'asdf', True]\n[123, 3.14159]\n[123, 3.14159, 'asdf']\n"
    }
   ],
   "source": [
    "print(list_3[-1])\n",
    "print(list_3[::-1])\n",
    "print(list_3[0:2])\n",
    "print(list_3[0:])\n",
    "print(list_3[:2])\n",
    "print(list_3[0:-1])"
   ]
  },
  {
   "cell_type": "code",
   "execution_count": 27,
   "metadata": {},
   "outputs": [
    {
     "output_type": "execute_result",
     "data": {
      "text/plain": "['Zeef', 'is', 'a', 'bad', 'bad', 'guy', 'with', 'so', 'many', 'exssss.']"
     },
     "metadata": {},
     "execution_count": 27
    }
   ],
   "source": [
    "sentence = 'Zeef is a bad bad guy with so many exssss.'\n",
    "sentence.split()"
   ]
  },
  {
   "cell_type": "markdown",
   "metadata": {},
   "source": [
    "除了空格外，split () 同时也会按照换行符 \\n，制表符 \\t 进行分割。所以应该说，split 默认是按照 空白字符进行分割。\n",
    "\n",
    " \n",
    "\n",
    "之所以说默认，是因为 split 还可以指定分割的符号。比如你有一个很长的字符串"
   ]
  },
  {
   "cell_type": "code",
   "execution_count": 28,
   "metadata": {},
   "outputs": [
    {
     "output_type": "execute_result",
     "data": {
      "text/plain": "['Hi', ' I am the one', ' Bye', '']"
     },
     "metadata": {},
     "execution_count": 28
    }
   ],
   "source": [
    "section = 'Hi. I am the one. Bye.'\n",
    "section.split('.')"
   ]
  },
  {
   "cell_type": "markdown",
   "metadata": {},
   "source": [
    "注意最后那个空字符串。每个 '.' 都会被作为分割符，即使它的后面没有其他字符，也会有一个空串被分割出来。"
   ]
  },
  {
   "cell_type": "markdown",
   "metadata": {},
   "source": [
    "split 是把一个字符串分割成很多字符串组成的 list，而 join 则是把一个 list 中的所有字符串连接成一个字符串。\n",
    "\n",
    "join 的格式有些奇怪，它不是 list 的方法，而是字符串的方法。首先你需要有一个字符串作为 list 中所有元素的连接符，然后再调用这个连接符的 join 方法，join 的参数是被连接的 list："
   ]
  },
  {
   "cell_type": "code",
   "execution_count": 29,
   "metadata": {},
   "outputs": [
    {
     "output_type": "stream",
     "name": "stdout",
     "text": "apple;pear;orange\n"
    }
   ],
   "source": [
    "s = ';'\n",
    "li = ['apple', 'pear', 'orange']\n",
    "fruit = s.join(li)\n",
    "print (fruit)"
   ]
  },
  {
   "cell_type": "code",
   "execution_count": 31,
   "metadata": {},
   "outputs": [
    {
     "output_type": "execute_result",
     "data": {
      "text/plain": "'Zeef is a bad person .'"
     },
     "metadata": {},
     "execution_count": 31
    }
   ],
   "source": [
    "' '.join(['Zeef', 'is', 'a', 'bad', 'person'])"
   ]
  },
  {
   "cell_type": "code",
   "execution_count": 32,
   "metadata": {},
   "outputs": [
    {
     "output_type": "stream",
     "name": "stdout",
     "text": "h\ne\nl\nl\no\nw\no\nr\nl\nd\n"
    }
   ],
   "source": [
    "word = 'helloworld'\n",
    "for c in word:\n",
    "    print(c)"
   ]
  },
  {
   "cell_type": "code",
   "execution_count": 33,
   "metadata": {},
   "outputs": [
    {
     "output_type": "stream",
     "name": "stdout",
     "text": "h\nl\n"
    }
   ],
   "source": [
    "print (word[0])\n",
    "print (word[-2])"
   ]
  },
  {
   "cell_type": "markdown",
   "metadata": {},
   "source": [
    "CANNOT:\n",
    "\n",
    "word[1] = 'a'"
   ]
  },
  {
   "cell_type": "code",
   "execution_count": 39,
   "metadata": {},
   "outputs": [
    {
     "output_type": "stream",
     "name": "stdout",
     "text": "wo\nhello\nhelloworld\n"
    }
   ],
   "source": [
    "print (word[5:7])\n",
    "print (word[:-5])\n",
    "print (word[:])"
   ]
  },
  {
   "cell_type": "code",
   "execution_count": 38,
   "metadata": {},
   "outputs": [
    {
     "output_type": "stream",
     "name": "stdout",
     "text": "h,e,l,l,o,w,o,r,l,d\n"
    }
   ],
   "source": [
    "print(','.join(word))"
   ]
  }
 ],
 "metadata": {
  "language_info": {
   "name": "python",
   "codemirror_mode": {
    "name": "ipython",
    "version": 3
   },
   "version": "3.7.7-final"
  },
  "orig_nbformat": 2,
  "file_extension": ".py",
  "mimetype": "text/x-python",
  "name": "python",
  "npconvert_exporter": "python",
  "pygments_lexer": "ipython3",
  "version": 3,
  "kernelspec": {
   "name": "python3",
   "display_name": "Python 3"
  }
 },
 "nbformat": 4,
 "nbformat_minor": 2
}