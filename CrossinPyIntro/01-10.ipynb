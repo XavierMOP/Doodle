{
 "nbformat": 4,
 "nbformat_minor": 2,
 "metadata": {
  "language_info": {
   "name": "python",
   "codemirror_mode": {
    "name": "ipython",
    "version": 3
   },
   "version": "3.7.7-final"
  },
  "orig_nbformat": 2,
  "file_extension": ".py",
  "mimetype": "text/x-python",
  "name": "python",
  "npconvert_exporter": "python",
  "pygments_lexer": "ipython3",
  "version": 3,
  "kernelspec": {
   "name": "python3",
   "display_name": "Python 3"
  }
 },
 "cells": [
  {
   "cell_type": "markdown",
   "metadata": {},
   "source": [
    "## 01-10\n",
    "- install\n",
    "- Print\n",
    "- IDE\n",
    "- Input\n",
    "- Variables\n",
    "- bool\n",
    "- if\n",
    "- while\n",
    "- random"
   ],
   "execution_count": null,
   "outputs": []
  },
  {
   "cell_type": "markdown",
   "metadata": {},
   "source": [
    "https://python666.cn/cls/lesson/list/"
   ],
   "execution_count": null,
   "outputs": []
  },
  {
   "cell_type": "code",
   "execution_count": null,
   "metadata": {},
   "outputs": [],
   "source": [
    "print(3e30)\n",
    "print(2 > 5)"
   ]
  },
  {
   "cell_type": "code",
   "execution_count": null,
   "metadata": {},
   "outputs": [],
   "source": [
    "input('zeef huai')"
   ]
  },
  {
   "cell_type": "code",
   "execution_count": null,
   "metadata": {},
   "outputs": [],
   "source": [
    "print(type(input('tt')))"
   ]
  },
  {
   "cell_type": "code",
   "execution_count": null,
   "metadata": {},
   "outputs": [],
   "source": [
    "num = 10\n",
    "print('Guess what I think?')\n",
    "answer = int(input())\n",
    "print(answer)\n",
    "\n",
    "result = answer<num\n",
    "print('too small?')\n",
    "print(result)\n",
    "\n",
    "result = answer>num\n",
    "print('too big?')\n",
    "print(result)\n",
    "\n",
    "result = answer==num\n",
    "print('equal?')\n",
    "print(result)"
   ]
  },
  {
   "cell_type": "code",
   "execution_count": null,
   "metadata": {},
   "outputs": [],
   "source": [
    "num = 10\n",
    "print ('Guess what I think?')\n",
    "answer = int(input())\n",
    "if answer<num:\n",
    "    print ('too small!')\n",
    "if answer>num:\n",
    "    print ('too big!')\n",
    "if answer==num:\n",
    "    print ('BINGO!')"
   ]
  },
  {
   "cell_type": "code",
   "execution_count": null,
   "metadata": {},
   "outputs": [],
   "source": [
    "a = 1             # 为了后面的条件能满足，先把a设为1\n",
    "while a != 0:     # 如果a不等于0就循环（1不等于0）\n",
    "    print(\"please input\")\n",
    "    a = int(input())     # 在循环内部获取输入，改变a的值（想想看不改会怎样？）\n",
    "print(\"over\")"
   ]
  },
  {
   "cell_type": "code",
   "execution_count": null,
   "metadata": {},
   "outputs": [],
   "source": [
    "num = 10\n",
    "print('guess')\n",
    "bingo = False\n",
    "\n",
    "while not bingo:\n",
    "    answer = int(input())\n",
    "    if answer > num:\n",
    "        print('>!')\n",
    "    if answer < num:\n",
    "        print('<!')\n",
    "    if answer == num:\n",
    "        print('yes!')\n",
    "        bingo = True"
   ]
  },
  {
   "cell_type": "code",
   "execution_count": null,
   "metadata": {},
   "outputs": [],
   "source": [
    "from random import randint\n",
    "\n",
    "num = randint(0, 10)\n",
    "print('guess')\n",
    "bingo = False\n",
    "\n",
    "while not bingo:\n",
    "    answer = int(input())\n",
    "    if answer > num:\n",
    "        print('>!')\n",
    "    if answer < num:\n",
    "        print('<!')\n",
    "    if answer == num:\n",
    "        print('yes!')\n",
    "        bingo = True"
   ]
  },
  {
   "cell_type": "code",
   "execution_count": null,
   "metadata": {},
   "outputs": [],
   "source": [
    "num = 1\n",
    "while num <= 100:\n",
    "    print(num)\n",
    "    num += 1"
   ]
  },
  {
   "cell_type": "code",
   "execution_count": null,
   "metadata": {},
   "outputs": [],
   "source": [
    "for i in range(1, 101):\n",
    "    print(i)"
   ]
  },
  {
   "cell_type": "code",
   "execution_count": null,
   "metadata": {},
   "outputs": [],
   "source": [
    "num = 1\n",
    "total_1 = 0\n",
    "\n",
    "while num <= 100:\n",
    "    total_1 += num\n",
    "    num += 1\n",
    "\n",
    "print(total_1)"
   ]
  },
  {
   "cell_type": "code",
   "execution_count": null,
   "metadata": {},
   "outputs": [],
   "source": [
    "total_2 = 0\n",
    "\n",
    "for a in range(1, 101):\n",
    "    total_2 += a\n",
    "\n",
    "print(total_2)"
   ]
  },
  {
   "cell_type": "code",
   "execution_count": null,
   "metadata": {},
   "outputs": [],
   "source": [
    "ratio = int(input('ratio'))\n",
    "no = 1\n",
    "item = 1\n",
    "\n",
    "while no <= 10:\n",
    "    print(no, item)\n",
    "    no += 1\n",
    "    item *= ratio"
   ]
  },
  {
   "cell_type": "code",
   "execution_count": null,
   "metadata": {},
   "outputs": [],
   "source": [
    "ratio_2 = int(input('ratio'))\n",
    "item_2 = 1\n",
    "\n",
    "for b in range(1, 11):\n",
    "    print(b, item_2)\n",
    "    item_2 *= ratio_2"
   ]
  },
  {
   "cell_type": "code",
   "execution_count": null,
   "metadata": {},
   "outputs": [],
   "source": [
    "former_item_No_0 = int(input('number of items'))\n",
    "n1_0 = 1\n",
    "n2_0 = 1\n",
    "print(n1_0)\n",
    "print(n2_0)\n",
    "zz = 3\n",
    "\n",
    "while zz <= former_item_No_0:\n",
    "    n3_0 = n1_0 + n2_0\n",
    "    print(n3_0)\n",
    "    n1_0 = n2_0\n",
    "    n2_0 = n3_0\n",
    "    zz += 1"
   ]
  },
  {
   "cell_type": "code",
   "execution_count": null,
   "metadata": {},
   "outputs": [],
   "source": [
    "former_item_No = int(input('number of items'))\n",
    "n1 = 1\n",
    "n2 = 1\n",
    "print(n1)\n",
    "print(n2)\n",
    "\n",
    "for f in range(3, former_item_No + 1):\n",
    "    n3 = n1 + n2\n",
    "    print(n3)\n",
    "    n1 = n2\n",
    "    n2 = n3"
   ]
  },
  {
   "cell_type": "code",
   "execution_count": null,
   "metadata": {},
   "outputs": [],
   "source": [
    "No_of_an = int(input('Number of An'))\n",
    "\n",
    "for n in range(1, No_of_an + 1):\n",
    "    An = ((0.5 + 5 ** 0.5 / 2) ** n - (0.5 - 5 ** 0.5 / 2) ** n) / (5 ** 0.5)\n",
    "    print(An, round(An))"
   ]
  },
  {
   "cell_type": "code",
   "execution_count": null,
   "metadata": {},
   "outputs": [],
   "source": [
    "a = 3.1415926535897932384626\n",
    "print(a)\n",
    "print(a.as_integer_ratio())\n",
    "print(a.is_integer())\n",
    "print(a.hex())"
   ]
  },
  {
   "cell_type": "markdown",
   "metadata": {},
   "source": [
    "变量名不是你想起就能起的：\n",
    "\n",
    "第一个字符必须是字母或者下划线_\n",
    "\n",
    "剩下的部分可以是字母、下划线_或数字 0~9\n",
    "\n",
    "变量名称是对大小写敏感的，myname 和 myName 不是同一个变量。"
   ],
   "execution_count": null,
   "outputs": []
  },
  {
   "cell_type": "markdown",
   "metadata": {},
   "source": [
    "python 中运算的顺序是，先把 “=” 右边的结果算出了，再赋值给左边的变量，相当于是两个步骤。"
   ],
   "execution_count": null,
   "outputs": []
  },
  {
   "cell_type": "code",
   "execution_count": null,
   "metadata": {},
   "outputs": [],
   "source": [
    "from random import randint\n",
    "num = randint(1, 100)\n",
    "\n",
    "print('Guess what I think?')\n",
    "bingo = False\n",
    "count = 0\n",
    "\n",
    "while bingo == False:\n",
    "    count += 1\n",
    "    answer = int(input())\n",
    "    if answer<num:\n",
    "        print('too small!')\n",
    "    if answer>num:\n",
    "        print('too big!')\n",
    "    if answer==num:\n",
    "        print('BINGO!')\n",
    "        bingo = True\n",
    "\n",
    "print(count)"
   ]
  }
 ]
}