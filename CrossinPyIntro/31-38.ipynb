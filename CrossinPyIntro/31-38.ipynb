{
 "cells": [
  {
   "cell_type": "code",
   "execution_count": 55,
   "metadata": {},
   "outputs": [
    {
     "output_type": "stream",
     "name": "stdout",
     "text": "['textt\\n', 't1\\n', 't2\\n', 't3\\n', 't4\\n', 't5']\n"
    }
   ],
   "source": [
    "f = open('test.txt', encoding='utf-8')\n",
    "\n",
    "# data1 = f.read()\n",
    "# print(data1)\n",
    "\n",
    "# data2 = f.readline()\n",
    "# print(data2)\n",
    "\n",
    "data3 = f.readlines()\n",
    "print(data3)\n",
    "\n",
    "f.close()"
   ]
  },
  {
   "cell_type": "markdown",
   "metadata": {},
   "source": [
    "'w' 就是 writing，以这种模式打开文件，原来文件中的内容会被你新写入的内容覆盖掉，如果文件不存在，会自动创建文件。\n",
    "\n",
    "之前不加参数时，open 的模式默认为 'r'，reading，只读模式，文件必须存在，否则引发异常。\n",
    "\n",
    "另外还有一种常用模式是 'a'，appending。它也是一种写入模式，但你写入的内容不会覆盖之前的内容，而是添加到原有文件内容后面。"
   ]
  },
  {
   "cell_type": "code",
   "execution_count": 18,
   "metadata": {},
   "outputs": [],
   "source": [
    "f2 = open('test2.txt', 'w')\n",
    "f2.write('outputttt')\n",
    "f2.close()"
   ]
  },
  {
   "cell_type": "markdown",
   "metadata": {},
   "source": [
    "有中文字符，因此需要对字符进行编码，以免出现报错\n",
    "\n",
    "中文编码为 gbk or utf-8"
   ]
  },
  {
   "cell_type": "code",
   "execution_count": 64,
   "metadata": {},
   "outputs": [],
   "source": [
    "f3 = open('scores.txt', encoding='utf-8')\n",
    "lines = f3.readlines()\n",
    "# print(lines)\n",
    "f3.close()\n",
    "\n",
    "results = []\n",
    " \n",
    "for line in lines:\n",
    "#    print (line)\n",
    "   data = line.split()\n",
    "#    print (data)\n",
    "\n",
    "   sum = 0\n",
    "   score_list = data[1:]\n",
    "   for score in score_list:\n",
    "       sum += int(score)\n",
    "   result = '%s \\t: %d\\n' % (data[0], sum)\n",
    "#    print (result)\n",
    "   \n",
    "   results.append(result)\n",
    "\n",
    "# print (results)\n",
    "output = open('result.txt', 'w', encoding='utf-8')\n",
    "output.writelines(results)\n",
    "output.close()"
   ]
  },
  {
   "cell_type": "markdown",
   "metadata": {},
   "source": [
    "我们已经熟悉了循环的使用，包括 while 和 for...in。while 循环在条件不满足时结束，for 循环遍历完序列后结束。如果在循环条件仍然满足或序列没有遍历完的时候，想要强行跳出循环，就需要用到 break 语句。"
   ]
  },
  {
   "cell_type": "code",
   "execution_count": null,
   "metadata": {},
   "outputs": [],
   "source": [
    "while True:\n",
    "   a = input()\n",
    "   if a == 'EOF':\n",
    "       break"
   ]
  },
  {
   "cell_type": "code",
   "execution_count": null,
   "metadata": {},
   "outputs": [],
   "source": [
    "for i in range(10):\n",
    "   a = input()\n",
    "   if a == 'EOF':\n",
    "       break"
   ]
  },
  {
   "cell_type": "markdown",
   "metadata": {},
   "source": [
    "break 是彻底地跳出循环，而 continue 只是略过本次循环的余下内容，直接进入下一次循环。"
   ]
  },
  {
   "cell_type": "code",
   "execution_count": 66,
   "metadata": {},
   "outputs": [],
   "source": [
    "for score in data[1:]:\n",
    "   point = int(score)\n",
    "   if point < 60:\n",
    "       continue\n",
    "   sum += point"
   ]
  },
  {
   "cell_type": "code",
   "execution_count": 67,
   "metadata": {},
   "outputs": [
    {
     "output_type": "stream",
     "name": "stdout",
     "text": "0\n1\n2\n0\n1\n1\n0\n1\n2\n0\n1\n2\n0\n1\n2\n0\n1\n3\n0\n1\n2\n0\n1\n"
    }
   ],
   "source": [
    "i = 0\n",
    "while i < 5:\n",
    "   i += 1\n",
    "   for j in range(3):\n",
    "       print (j)\n",
    "       if j == 2:\n",
    "           break\n",
    "   for k in range(3):\n",
    "       if k == 2:\n",
    "           continue\n",
    "       print (k)\n",
    "   if i > 3:\n",
    "       break\n",
    "   print (i)"
   ]
  },
  {
   "cell_type": "markdown",
   "metadata": {},
   "source": [
    "在 python 中，可以使用 try...except 语句来处理异常。做法是，把可能引发异常的语句放在 try - 块中，把处理异常的语句放在 except - 块中。"
   ]
  },
  {
   "cell_type": "code",
   "execution_count": 68,
   "metadata": {},
   "outputs": [
    {
     "output_type": "stream",
     "name": "stdout",
     "text": "File not exists.\nDone\n"
    }
   ],
   "source": [
    "try:\n",
    "   f = open('non-exist.txt')\n",
    "   print ('File opened!')\n",
    "   f.close()\n",
    "except:\n",
    "   print ('File not exists.')\n",
    "print ('Done')"
   ]
  },
  {
   "cell_type": "markdown",
   "metadata": {},
   "source": [
    "当程序在 try 内部打开文件引发异常时，会跳过 try 中剩下的代码，直接跳转到 except 中的语句处理异常。于是输出了 “File not exists.”。如果文件被顺利打开，则会输出 “File opened!”，而不会去执行 except 中的语句。\n",
    "\n",
    " \n",
    "\n",
    "但无论如何，整个程序不会中断，最后的 “Done” 都会被输出。"
   ]
  },
  {
   "cell_type": "markdown",
   "metadata": {},
   "source": [
    "字典这种数据结构有点像我们平常用的通讯录，有一个名字和这个名字对应的信息。在字典中，名字叫做 “键”，对应的内容信息叫做 “值”。字典就是一个键 / 值对的集合。\n",
    "\n",
    "它的基本格式是（key 是键，value 是值）：\n",
    "\n",
    "d = {key1 : value1, key2 : value2}\n",
    "\n",
    "键 / 值对用冒号分割，每个对之间用逗号分割，整个字典包括在花括号中。"
   ]
  },
  {
   "cell_type": "markdown",
   "metadata": {},
   "source": [
    "d = {key1 : value1, key2 : value2}"
   ]
  },
  {
   "cell_type": "markdown",
   "metadata": {},
   "source": [
    "关于字典的键要注意的是：\n",
    "\n",
    "1. 键必须是唯一的；\n",
    "\n",
    "2. 键只能是简单对象，比如字符串、整数、浮点数、bool 值。\n",
    "\n",
    " \n",
    "\n",
    "list 就不能作为键，但是可以作为值。"
   ]
  },
  {
   "cell_type": "code",
   "execution_count": 88,
   "metadata": {},
   "outputs": [
    {
     "output_type": "stream",
     "name": "stdout",
     "text": "97\n"
    }
   ],
   "source": [
    "score = {\n",
    "   '萧峰': 95,\n",
    "   '段誉': 97,\n",
    "   '虚竹': 89\n",
    "}\n",
    "\n",
    "print (score['段誉'])"
   ]
  },
  {
   "cell_type": "markdown",
   "metadata": {},
   "source": [
    "python 字典中的键 / 值对没有顺序，我们无法用索引访问字典中的某一项，而是要用键来访问。"
   ]
  },
  {
   "cell_type": "markdown",
   "metadata": {},
   "source": [
    "\n",
    "注意，如果你的键是字符串，通过键访问的时候就需要加引号，如果是数字作为键则不用。\n",
    "\n",
    " \n",
    "\n",
    "如果你提供的键在字典中不存在，则会报错。另一种访问字典中元素的方法是："
   ]
  },
  {
   "cell_type": "code",
   "execution_count": 89,
   "metadata": {},
   "outputs": [],
   "source": [
    "score.get('慕容复')"
   ]
  },
  {
   "cell_type": "markdown",
   "metadata": {},
   "source": [
    "这种方法的好处是，即使提供的键不存在，也不会报错，只会返回 None"
   ]
  },
  {
   "cell_type": "markdown",
   "metadata": {},
   "source": [
    "字典也可以通过 for...in 遍历："
   ]
  },
  {
   "cell_type": "code",
   "execution_count": 90,
   "metadata": {},
   "outputs": [
    {
     "output_type": "stream",
     "name": "stdout",
     "text": "95\n97\n89\n"
    }
   ],
   "source": [
    "for name in score:\n",
    "   print (score[name])"
   ]
  },
  {
   "cell_type": "markdown",
   "metadata": {},
   "source": [
    "注意，遍历的变量中存储的是字典的键。"
   ]
  },
  {
   "cell_type": "code",
   "execution_count": 91,
   "metadata": {},
   "outputs": [
    {
     "output_type": "stream",
     "name": "stdout",
     "text": "{'萧峰': 95, '段誉': 97, '虚竹': 91}\n{'萧峰': 95, '段誉': 97, '虚竹': 91, '慕容复': 88}\n{'段誉': 97, '虚竹': 91, '慕容复': 88}\n"
    }
   ],
   "source": [
    "# 如果要改变某一项的值，就直接给这一项赋值：\n",
    "\n",
    "score['虚竹'] = 91\n",
    "print(score)\n",
    " \n",
    "\n",
    "# 增加一项字典项的方法是，给一个新键赋值：\n",
    "\n",
    "score['慕容复'] = 88\n",
    "print(score)\n",
    " \n",
    "\n",
    "# 删除一项字典项的方法是 del：\n",
    "\n",
    "del score['萧峰']\n",
    "print(score)\n",
    "\n",
    "# 注意，这个键必须已存在于字典中。"
   ]
  },
  {
   "cell_type": "code",
   "execution_count": 92,
   "metadata": {},
   "outputs": [],
   "source": [
    "# empty dic:\n",
    "\n",
    "d = {}"
   ]
  },
  {
   "cell_type": "code",
   "execution_count": 93,
   "metadata": {},
   "outputs": [
    {
     "output_type": "stream",
     "name": "stdout",
     "text": "3.141592653589793\n3.141592653589793\n"
    }
   ],
   "source": [
    "# 使用这些功能的基本方法就是使用模块。通过函数，可以在程序里重用代码；通过模块，则可以重用别的程序中的代码。\n",
    "\n",
    "# 模块可以理解为是一个包含了函数和变量的 py 文件。在你的程序中引入了某个模块，就可以使用其中的函数和变量。\n",
    "\n",
    "# 来看一个我们之前使用过的模块：\n",
    "\n",
    "import random\n",
    " \n",
    "\n",
    "# import 语句告诉 python，我们要用 random 模块中的内容。然后便可以使用 random 中的方法，比如：\n",
    "\n",
    "random.randint(1, 10)\n",
    "random.choice([1, 3, 5])\n",
    "\n",
    "# 注意，函数前面需要加上 “random.”，这样 python 才知道你是要调用 random 中的方法。\n",
    "\n",
    "# 想知道 random 有哪些函数和变量，可以用 dir () 方法：\n",
    "\n",
    "dir(random)\n",
    "\n",
    "# 如果你只是用到 random 中的某一个函数或变量，也可以通过 from...import... 指明：\n",
    "\n",
    "from math import pi\n",
    "print (pi)\n",
    "\n",
    "# 为了便于理解和避免冲突，你还可以给引入的方法换个名字：\n",
    "\n",
    "from math import pi as math_pi\n",
    "print (math_pi)"
   ]
  },
  {
   "cell_type": "code",
   "execution_count": 94,
   "metadata": {},
   "outputs": [
    {
     "output_type": "execute_result",
     "data": {
      "text/plain": "['BPF',\n 'LOG4',\n 'NV_MAGICCONST',\n 'RECIP_BPF',\n 'Random',\n 'SG_MAGICCONST',\n 'SystemRandom',\n 'TWOPI',\n '_BuiltinMethodType',\n '_MethodType',\n '_Sequence',\n '_Set',\n '__all__',\n '__builtins__',\n '__cached__',\n '__doc__',\n '__file__',\n '__loader__',\n '__name__',\n '__package__',\n '__spec__',\n '_acos',\n '_bisect',\n '_ceil',\n '_cos',\n '_e',\n '_exp',\n '_inst',\n '_itertools',\n '_log',\n '_os',\n '_pi',\n '_random',\n '_sha512',\n '_sin',\n '_sqrt',\n '_test',\n '_test_generator',\n '_urandom',\n '_warn',\n 'betavariate',\n 'choice',\n 'choices',\n 'expovariate',\n 'gammavariate',\n 'gauss',\n 'getrandbits',\n 'getstate',\n 'lognormvariate',\n 'normalvariate',\n 'paretovariate',\n 'randint',\n 'random',\n 'randrange',\n 'sample',\n 'seed',\n 'setstate',\n 'shuffle',\n 'triangular',\n 'uniform',\n 'vonmisesvariate',\n 'weibullvariate']"
     },
     "metadata": {},
     "execution_count": 94
    }
   ],
   "source": [
    "dir(random)"
   ]
  }
 ],
 "metadata": {
  "language_info": {
   "codemirror_mode": {
    "name": "ipython",
    "version": 3
   },
   "file_extension": ".py",
   "mimetype": "text/x-python",
   "name": "python",
   "nbconvert_exporter": "python",
   "pygments_lexer": "ipython3",
   "version": "3.7.7-final"
  },
  "orig_nbformat": 2,
  "kernelspec": {
   "name": "python3",
   "display_name": "Python 3"
  }
 },
 "nbformat": 4,
 "nbformat_minor": 2
}