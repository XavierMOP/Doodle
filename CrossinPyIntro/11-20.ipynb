{
 "nbformat": 4,
 "nbformat_minor": 2,
 "metadata": {
  "language_info": {
   "name": "python",
   "codemirror_mode": {
    "name": "ipython",
    "version": 3
   },
   "version": "3.7.7-final"
  },
  "orig_nbformat": 2,
  "file_extension": ".py",
  "mimetype": "text/x-python",
  "name": "python",
  "npconvert_exporter": "python",
  "pygments_lexer": "ipython3",
  "version": 3,
  "kernelspec": {
   "name": "python3",
   "display_name": "Python 3"
  }
 },
 "cells": [
  {
   "cell_type": "markdown",
   "metadata": {},
   "source": [
    "## 11-20\n",
    "- logic\n",
    "- for loop\n",
    "- string\n",
    "- string formating\n",
    "- nested loop\n",
    "- type converting\n",
    "- boolean type converting\n",
    "- function\n",
    "- cmd line command"
   ]
  },
  {
   "cell_type": "markdown",
   "metadata": {},
   "source": [
    "https://python666.cn/cls/lesson/list/"
   ],
   "execution_count": null,
   "outputs": []
  },
  {
   "cell_type": "code",
   "execution_count": 29,
   "metadata": {},
   "outputs": [
    {
     "output_type": "stream",
     "name": "stdout",
     "text": "False\n"
    }
   ],
   "source": [
    "a = True\n",
    "b = not a\n",
    "print(b)"
   ]
  },
  {
   "cell_type": "markdown",
   "metadata": {},
   "source": [
    "for 循环的本质是对一个**序列**中的元素进行遍历。什么是序列，以后再说。先记住这个最简单的形式：\n",
    "\n",
    "`\n",
    "for i in range(a, b)\n",
    "`\n",
    "\n",
    "就是从 a 循环至 b-1"
   ],
   "execution_count": null,
   "outputs": []
  },
  {
   "cell_type": "markdown",
   "metadata": {},
   "source": [
    "字符串就是一组字符的**序列**"
   ],
   "execution_count": null,
   "outputs": []
  },
  {
   "cell_type": "markdown",
   "metadata": {},
   "source": [
    "如果你想表示一段带有英文单引号或者双引号的文字，那么表示这个字符串的引号就要与内容区别开。"
   ],
   "execution_count": null,
   "outputs": []
  },
  {
   "cell_type": "markdown",
   "metadata": {},
   "source": [
    "还有一种在字符串中表示引号的方法，就是用 \\，可以不受引号的限制\n",
    "\n",
    "`\\'` 表示单引号，`\\\"` 表示双引号\n",
    "\n",
    "`\n",
    "'I\\'m a \\\"good\\\" teacher'\n",
    "`"
   ],
   "execution_count": null,
   "outputs": []
  },
  {
   "cell_type": "markdown",
   "metadata": {},
   "source": [
    "\\ 被称作`转义字符`，除了用来表示引号，还有比如用\n",
    "\n",
    "`\\n` 表示字符串中的换行（相当于按一下回车键的效果）\n",
    "\n",
    "`\\t` 表示字符串中的制表符（相当于按一下 tab 键的效果）\n",
    "\n",
    "`\\\\` 表示字符串中的 \\ （因为单个斜杠被用来做转义了，所以真的要表示 \\ 字符，就要两个斜杠）"
   ],
   "execution_count": null,
   "outputs": []
  },
  {
   "cell_type": "markdown",
   "metadata": {},
   "source": [
    "\\ 还有个用处，就是用来在代码中换行，而不影响输出的结果：\n",
    "\n",
    "`\n",
    "\"this is the \\\n",
    "`\n",
    "\n",
    "`\n",
    "same line\"\n",
    "`\n",
    "\n",
    "这个字符串仍然只有一行，和\n",
    "\n",
    "`\n",
    "\"this is the same line\"\n",
    "`\n",
    "\n",
    "是一样的，只是在代码中换了行。当你要写一行很长的代码时，这个会派上用场。"
   ],
   "execution_count": null,
   "outputs": []
  },
  {
   "cell_type": "markdown",
   "metadata": {},
   "source": [
    "python 中还有一种表示字符串的方法：\n",
    "\n",
    "三个引号（'''）或者（\"\"\"）\n",
    "\n",
    " \n",
    "\n",
    "在三个引号中，你可以方便地使用单引号和双引号，并且可以直接换行\n",
    "\n",
    "```\n",
    "'''\n",
    "\"What's your name?\" I asked.\n",
    "\"I'm Han Meimei.\"\n",
    "'''\n",
    "```"
   ],
   "execution_count": null,
   "outputs": []
  },
  {
   "cell_type": "code",
   "execution_count": 30,
   "metadata": {},
   "outputs": [
    {
     "output_type": "stream",
     "name": "stdout",
     "text": "\\\\_v_//\n"
    }
   ],
   "source": [
    "print('\\\\\\\\_v_//')"
   ]
  },
  {
   "cell_type": "code",
   "execution_count": 31,
   "metadata": {},
   "outputs": [
    {
     "output_type": "stream",
     "name": "stdout",
     "text": "*\n***\n*****\n***\n*\n"
    }
   ],
   "source": [
    "print('*\\n***\\n*****\\n***\\n*')"
   ]
  },
  {
   "cell_type": "markdown",
   "metadata": {},
   "source": [
    "字符和数字不能直接用 + 相加。\n",
    "\n",
    "一种解决方法是，用 str () 把数字转换成字符串\n",
    "\n",
    "还有一种方法，就是用 % 对字符串进行格式化"
   ],
   "execution_count": null,
   "outputs": []
  },
  {
   "cell_type": "markdown",
   "metadata": {},
   "source": [
    "还有一种方法，就是用 % 对字符串进行格式化\n",
    "```\n",
    "num = 18\n",
    "print('My age is %d' % num)\n",
    "```\n",
    "输出的时候，原始字符串中的 %d 会被 % 后面的值替换。输出\n",
    "\n",
    "**My age is 18**"
   ],
   "execution_count": null,
   "outputs": []
  },
  {
   "cell_type": "markdown",
   "metadata": {},
   "source": [
    "这里，%d 只能用来替换整数。如果你想格式化的数值是小数，要用 %f\n",
    "```\n",
    "print('Price is %f' % 4.99)\n",
    "```\n",
    "输出\n",
    "\n",
    "**Price is 4.990000**"
   ],
   "execution_count": null,
   "outputs": []
  },
  {
   "cell_type": "markdown",
   "metadata": {},
   "source": [
    "如果你想保留两位小数，需要在 f 前面加上条件：%.2f\n",
    "```\n",
    "print('Price is %.2f' % 4.99)\n",
    "```\n",
    "输出\n",
    "\n",
    "**Price is 4.99**"
   ],
   "execution_count": null,
   "outputs": []
  },
  {
   "cell_type": "markdown",
   "metadata": {},
   "source": [
    "另外，可以用 %s 来替换一段字符串\n",
    "```\n",
    "name = 'Crossin'\n",
    "print('%s is a good teacher.' % name)\n",
    "```\n",
    "输出\n",
    "\n",
    "**Crossin is a good teacher.**\n",
    "\n",
    " \n",
    "\n",
    "或者\n",
    "```\n",
    "print('Today is %s.' % 'Friday' )\n",
    "```\n",
    "输出\n",
    "\n",
    "**Today is Friday.**"
   ],
   "execution_count": null,
   "outputs": []
  },
  {
   "cell_type": "markdown",
   "metadata": {},
   "source": [
    "有时候，仅仅代入一个值不能满足我们构造字符串的需要。假设你现在有一组学生成绩的数据，你要输出这些数据。在一行中，既要输出学生的姓名，又要输出他的成绩。例如\n",
    "\n",
    "Mike's score is 87.\n",
    "\n",
    "Lily's score is 95.\n",
    "\n",
    "在 python 中，可以这样实现"
   ]
  },
  {
   "cell_type": "code",
   "execution_count": 32,
   "metadata": {},
   "outputs": [
    {
     "output_type": "stream",
     "name": "stdout",
     "text": "Mike's score is 87\nLily's score is 95\n"
    }
   ],
   "source": [
    "print(\"%s's score is %d\" % ('Mike', 87))\n",
    "\n",
    "# or\n",
    "\n",
    "name = 'Lily'\n",
    "score = 95\n",
    "print(\"%s's score is %d\" % (name, score))"
   ]
  },
  {
   "cell_type": "markdown",
   "metadata": {},
   "source": [
    "无论你有多少个值需要代入字符串中进行格式化，只需要在字符串中的合适位置用对应格式的 % 表示，然后在后面的括号中按顺序提供代入的值就可以了。占位的 % 和括号中的值在数量上必须相等，类型也要匹配。"
   ],
   "execution_count": null,
   "outputs": []
  },
  {
   "cell_type": "code",
   "execution_count": 33,
   "metadata": {},
   "outputs": [
    {
     "output_type": "stream",
     "name": "stdout",
     "text": "*\n*\n*\n*\n*\n"
    }
   ],
   "source": [
    "for i in range(0, 5):\n",
    "    print('*')"
   ]
  },
  {
   "cell_type": "code",
   "execution_count": 34,
   "metadata": {},
   "outputs": [
    {
     "output_type": "stream",
     "name": "stdout",
     "text": "* * * * *"
    }
   ],
   "source": [
    "for i in range(0, 5):\n",
    "    print('*', end=' ')"
   ]
  },
  {
   "cell_type": "markdown",
   "metadata": {},
   "source": [
    "end 参数的作用是指定 print 结束之后的字符，默认是回车。"
   ],
   "execution_count": null,
   "outputs": []
  },
  {
   "cell_type": "code",
   "execution_count": 35,
   "metadata": {},
   "outputs": [
    {
     "output_type": "stream",
     "name": "stdout",
     "text": "0 0\n0 1\n0 2\n1 0\n1 1\n1 2\n2 0\n2 1\n2 2\n"
    }
   ],
   "source": [
    "for i in range(0, 3):\n",
    "    for j in range(0, 3):\n",
    "        print(i, j)"
   ]
  },
  {
   "cell_type": "code",
   "execution_count": 36,
   "metadata": {},
   "outputs": [
    {
     "output_type": "stream",
     "name": "stdout",
     "text": "* * * * * \n* * * * * \n* * * * * \n* * * * * \n* * * * * \n"
    }
   ],
   "source": [
    "for i in range(0, 5):\n",
    "    for j in range(0, 5):\n",
    "        print('*', end=' ')\n",
    "    print()"
   ]
  },
  {
   "cell_type": "code",
   "execution_count": 37,
   "metadata": {},
   "outputs": [
    {
     "output_type": "stream",
     "name": "stdout",
     "text": "* \n* * \n* * * \n* * * * \n* * * * * \n"
    }
   ],
   "source": [
    "for i in range(0, 5):\n",
    "    for j in range(0, i+1):\n",
    "        print('*', end=' ')\n",
    "    print()"
   ]
  },
  {
   "cell_type": "code",
   "execution_count": 38,
   "metadata": {},
   "outputs": [
    {
     "output_type": "stream",
     "name": "stdout",
     "text": "1 <class 'int'>\nhello <class 'str'>\nTrue <class 'bool'>\n"
    }
   ],
   "source": [
    "a = 1\n",
    "print(a, type(a))\n",
    "a = 'hello'\n",
    "print(a, type(a))\n",
    "a = True\n",
    "print(a, type(a))"
   ]
  },
  {
   "cell_type": "code",
   "execution_count": 43,
   "metadata": {},
   "outputs": [
    {
     "output_type": "execute_result",
     "data": {
      "text/plain": "True"
     },
     "metadata": {},
     "execution_count": 43
    }
   ],
   "source": [
    "int('123') == 123\n",
    "float('3.3') == 3.3\n",
    "str(111) == '111'\n",
    "bool(0) == False"
   ]
  },
  {
   "cell_type": "code",
   "execution_count": 50,
   "metadata": {},
   "outputs": [
    {
     "output_type": "stream",
     "name": "stdout",
     "text": "True\nFalse\nTrue\nTrue\nFalse\n0\n1\n1\n0\n"
    }
   ],
   "source": [
    "print(bool(-123))\n",
    "print(bool(0))\n",
    "print(bool('abc'))\n",
    "print(bool('False'))\n",
    "print(bool(''))\n",
    "print(int(False))\n",
    "print(int(True))\n",
    "print(False + True)\n",
    "print(False * True)"
   ]
  },
  {
   "cell_type": "markdown",
   "metadata": {},
   "source": [
    "在 python 中，其他类型转成 bool 类型时，以下数值会被认为是 False：\n",
    "\n",
    "- 为 0 的数字，包括 0，0.0\n",
    "- 空字符串，包括 '' 和 \"\"\n",
    "- 表示空值的 None\n",
    "- 空集合，包括 ()，[]，{}\n",
    "- 其他的值都认为是 True。"
   ]
  },
  {
   "cell_type": "markdown",
   "metadata": {},
   "source": [
    "在 if、while 等条件判断语句里，判断条件会自动进行一次 bool 的转换。比如\n",
    "```\n",
    "a = '123'\n",
    "if a:\n",
    "    print ('this is not a blank string')\n",
    "``` \n",
    "\n",
    "这在编程中是很常见的一种写法。效果等同于\n",
    "```\n",
    "if bool(a) == True:\n",
    "```\n",
    "\n",
    "or\n",
    "\n",
    "```\n",
    "if a != '':"
   ]
  },
  {
   "cell_type": "markdown",
   "metadata": {},
   "source": [
    "第一个常用的命令是：\n",
    "\n",
    "`dir` （windows 环境下）\n",
    "`ls` （mac 环境下）\n",
    " \n",
    "\n",
    "dir 显示出当前目录下的文件和文件夹"
   ]
  },
  {
   "cell_type": "markdown",
   "metadata": {},
   "source": [
    "第二个常用命令是：\n",
    "\n",
    "`cd 目录名`\n",
    " \n",
    "\n",
    "通过 dir 或 ls 了解当前目录的结构之后，可以通过 “cd 目录名” 的方式，进入到当前目录下的子目录里。\n",
    "\n",
    " \n",
    "如果要跳回到上级目录，可以用命令：\n",
    "\n",
    "`cd ..`\n",
    " \n",
    "\n",
    "另外，Windows 下如果要写换盘符，需要输入\n",
    "\n",
    "`盘符:`\n",
    " \n",
    "\n",
    "比如从 c 盘切换到 d 盘\n",
    "\n",
    "`C:\\Documents and Settings\\Crossin> d:`"
   ]
  }
 ]
}