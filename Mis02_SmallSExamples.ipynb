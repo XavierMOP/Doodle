{
 "nbformat": 4,
 "nbformat_minor": 2,
 "metadata": {
  "language_info": {
   "name": "python",
   "codemirror_mode": {
    "name": "ipython",
    "version": 3
   },
   "version": "3.7.6-final"
  },
  "orig_nbformat": 2,
  "file_extension": ".py",
  "mimetype": "text/x-python",
  "name": "python",
  "npconvert_exporter": "python",
  "pygments_lexer": "ipython3",
  "version": 3,
  "kernelspec": {
   "name": "python3",
   "display_name": "Python 3"
  }
 },
 "cells": [
  {
   "cell_type": "markdown",
   "metadata": {},
   "source": [
    "1. 字符串的翻转"
   ],
   "execution_count": null,
   "outputs": []
  },
  {
   "cell_type": "code",
   "execution_count": 111,
   "metadata": {},
   "outputs": [
    {
     "output_type": "stream",
     "name": "stdout",
     "text": ".ssa gib a si feeZ\n.ssa gib a si feeZ\n"
    }
   ],
   "source": [
    "# Method 1\n",
    "\n",
    "str1 = 'Zeef is a big ass.'\n",
    "print(str1[::-1])\n",
    "\n",
    "# Method 2\n",
    "from functools import reduce\n",
    "print(reduce(lambda x,y:y+x,str1))\n",
    "\n",
    "# To reverse a string, string slice or reduce function (from functools)."
   ]
  },
  {
   "cell_type": "markdown",
   "metadata": {},
   "source": [
    "2. 判断字符串是否是回文"
   ],
   "execution_count": null,
   "outputs": []
  },
  {
   "cell_type": "code",
   "execution_count": 112,
   "metadata": {},
   "outputs": [
    {
     "output_type": "stream",
     "name": "stdout",
     "text": "Palindrome string\nNot palindrome string\n"
    }
   ],
   "source": [
    "str2 = 'abccba'\n",
    "str2_1 = 'abcvb'\n",
    "\n",
    "def fun(string):\n",
    "    if string == string[::-1]:\n",
    "        print('Palindrome string')\n",
    "    else:\n",
    "        print('Not palindrome string')\n",
    "\n",
    "fun(str2)\n",
    "fun(str2_1)\n",
    "\n",
    "# Another application of the first case."
   ]
  },
  {
   "cell_type": "markdown",
   "metadata": {},
   "source": [
    "3. 单词大小写"
   ],
   "execution_count": null,
   "outputs": []
  },
  {
   "cell_type": "code",
   "execution_count": 113,
   "metadata": {},
   "outputs": [
    {
     "output_type": "stream",
     "name": "stdout",
     "text": "Zeef Is A Big Ass.\nZEEF IS A BIG ASS.\nZeef is a big ass.\n"
    }
   ],
   "source": [
    "str3 = 'zeef is a big ass.'\n",
    "\n",
    "print(str3.title())\n",
    "print(str3.upper())\n",
    "print(str3.capitalize())\n",
    "\n",
    "# 面对一个字符串，想将里面的单词首字母大写，只需要调用 title() 函数，而所有的字母大写只需要调用 upper() 函数，字符串首字母大写则是调用 capitalize() 函数即可。"
   ]
  },
  {
   "cell_type": "markdown",
   "metadata": {},
   "source": [
    "4. 字符串的拆分"
   ],
   "execution_count": null,
   "outputs": []
  },
  {
   "cell_type": "code",
   "execution_count": 114,
   "metadata": {},
   "outputs": [
    {
     "output_type": "stream",
     "name": "stdout",
     "text": "['Zeef', 'is', 'a', 'huge', 'ass']\n['Zeef', 'is', 'a', 'huge', 'ass']\n['Zeef', 'is', 'a', 'huge', 'ass']\nZeef is an ass.\n<class 'str'>\n"
    }
   ],
   "source": [
    "str4 = 'Zeef is a huge ass'\n",
    "str4_1 = 'Zeef/is/a/huge/ass'\n",
    "str4_2 = '      Zeef is an ass.      '\n",
    "print(str4.split()) # 默认按空格划分，返回列表\n",
    "print(str4.split(' '))\n",
    "print(str4_1.split('/'))\n",
    "print(str4_2.strip()) # 默认去除字符串两边空格，返回字符串\n",
    "print(type(str4_2.strip()))\n",
    "\n",
    "# 字符串的拆分可以直接利用 split 函数，进行实现，返回的是列表，而 strip 函数用于移除字符串头尾指定的字符（默认为空格或换行符）。"
   ]
  },
  {
   "cell_type": "markdown",
   "metadata": {},
   "source": [
    "5. 将列表中的字符串合并"
   ],
   "execution_count": null,
   "outputs": []
  },
  {
   "cell_type": "code",
   "execution_count": 115,
   "metadata": {},
   "outputs": [
    {
     "output_type": "stream",
     "name": "stdout",
     "text": "Zeef is bad\nZeef is bad\n"
    }
   ],
   "source": [
    "list5 = ['Zeef', 'is', 'bad']\n",
    "print(' '.join(list5))\n",
    "\n",
    "# 去除字符串中不需要的字符\n",
    "import re\n",
    "str5 = 'Zeef/ is. bad'\n",
    "print(' '.join(re.split('\\W+', str5)))\n",
    "\n",
    "# 这一条可以认为是第 4 条的反例，这里是将列表中的字符串合并为字符串。第 4 条可以与第 5 条结合，来去除字符串中不想留下的项。"
   ]
  },
  {
   "cell_type": "markdown",
   "metadata": {},
   "source": [
    "6. 寻找字符串中唯一的元素"
   ],
   "execution_count": null,
   "outputs": []
  },
  {
   "cell_type": "code",
   "execution_count": 116,
   "metadata": {},
   "outputs": [
    {
     "output_type": "stream",
     "name": "stdout",
     "text": "fshdwg\n[1, 2, 4, 5, 6, 7]\n"
    }
   ],
   "source": [
    "str6 = 'wdfdssddgfsh'\n",
    "print(''.join(set(str6)))\n",
    "\n",
    "# 筛查列表\n",
    "list6 = [2,4,5,6,7,1,2]\n",
    "print(list(set(list6)))\n",
    "\n",
    "# 在 python 中，对于唯一值的筛查，首先应该想到对于 set 的利用，set 可以帮助我们快速的筛查重复的元素，上述程序中，set 不仅可以对字符串，而且还可以针对列表进行筛查。"
   ]
  },
  {
   "cell_type": "markdown",
   "metadata": {},
   "source": [
    "7. 将元素进行重复"
   ],
   "execution_count": null,
   "outputs": []
  },
  {
   "cell_type": "code",
   "execution_count": 117,
   "metadata": {},
   "outputs": [
    {
     "output_type": "stream",
     "name": "stdout",
     "text": "ZeefbadbadZeefbadbad\n[1, 2, 3, 1, 2, 3]\nZeefbadbadZeefbadbad\n[1, 2, 3, 1, 2, 3]\n"
    }
   ],
   "source": [
    "str7 = 'Zeefbadbad'\n",
    "list7 = [1,2,3]\n",
    "# Multiplication\n",
    "print(str7 * 2)\n",
    "print(list7 * 2)\n",
    "\n",
    "str7_1 = ''\n",
    "list7_1 = []\n",
    "# Addition\n",
    "for i in range(2):\n",
    "    str7_1 += str7\n",
    "    list7_1.extend(list7)\n",
    "\n",
    "print(str7_1)\n",
    "print (list7_1)\n",
    "\n",
    "# 将元素进行重复，可以采用 “乘法” 的形势，直接乘以原来的元素，也可以采用 “加法” 的形式，更方便理解。"
   ]
  },
  {
   "cell_type": "markdown",
   "metadata": {},
   "source": [
    "8. 基于列表的扩展"
   ],
   "execution_count": null,
   "outputs": []
  },
  {
   "cell_type": "code",
   "execution_count": 118,
   "metadata": {},
   "outputs": [
    {
     "output_type": "stream",
     "name": "stdout",
     "text": "[4, 4, 4, 4]\n[1, 2, 3, 4, 5, 6, 4, 3, 1]\n"
    }
   ],
   "source": [
    "list8 = [2, 2, 2, 2]\n",
    "print([2 * x for x in list8])\n",
    "\n",
    "# List expansion\n",
    "list8_1 = [[1,2,3], [4,5,6], [4,3],[1]]\n",
    "print([i for k in list8_1 for i in k])\n",
    "\n",
    "# 基于列表的扩展，可以充分利用列表的特性和 python 语法的简洁性，来产生新的列表，或者将嵌套的列表进行展开。"
   ]
  },
  {
   "cell_type": "markdown",
   "metadata": {},
   "source": [
    "9. 将列表展开"
   ],
   "execution_count": null,
   "outputs": []
  },
  {
   "cell_type": "code",
   "execution_count": 119,
   "metadata": {},
   "outputs": [
    {
     "output_type": "stream",
     "name": "stdout",
     "text": "[1, 2, 3, 4, 6, 5, 67, 78, 89, 90, 0, 1]\n<iteration_utilities.deepflatten object at 0x00000225533F7BE8>\n[1, 2, 3, 4, 6, 5, 67, 78, 89, 90, 0, 1]\n"
    }
   ],
   "source": [
    "from iteration_utilities import deepflatten\n",
    "\n",
    "list9 = [[1,2,3], [4,6,5], [67,78,89,90,0], [1]]\n",
    "\n",
    "# Method1\n",
    "print(list(deepflatten(list9)))\n",
    "print(deepflatten(list9))\n",
    "\n",
    "# Method2\n",
    "def flatten(strrr):\n",
    "    res = []\n",
    "    for i in strrr:\n",
    "        if isinstance(i, list):\n",
    "            res.extend(flatten(i))\n",
    "        else:\n",
    "            res.append(i)\n",
    "    return res\n",
    "\n",
    "print(flatten(list9))\n",
    "\n",
    "# 首先，方法 1 中 ，我们调用的是 iteration_utilities 中的 deepflatten 函数，第二种方法直接采用递归的方法，我们自己来实现复杂列表的展平，便可以得到展开后的列表。"
   ]
  },
  {
   "cell_type": "markdown",
   "metadata": {},
   "source": [
    "10. 二值交换"
   ],
   "execution_count": null,
   "outputs": []
  },
  {
   "cell_type": "code",
   "execution_count": 120,
   "metadata": {},
   "outputs": [
    {
     "output_type": "stream",
     "name": "stdout",
     "text": "1 2\n2 1\n1 2\n"
    }
   ],
   "source": [
    "a = 1\n",
    "b = 2\n",
    "print(a, b)\n",
    "\n",
    "a, b = b, a\n",
    "print(a, b)\n",
    "\n",
    "c = a + b\n",
    "a = c - a\n",
    "b = c - b\n",
    "print(a, b)\n",
    "\n",
    "# Python 中的二值交换，可以直接采用交换的方式，如上图的方法 1，而方法 2 所示的方法，借助第三个变量，来实现了两个数值的交换。"
   ]
  },
  {
   "cell_type": "markdown",
   "metadata": {},
   "source": [
    "11. 统计列表中元素的频率"
   ],
   "execution_count": null,
   "outputs": []
  },
  {
   "cell_type": "code",
   "execution_count": 121,
   "metadata": {},
   "outputs": [
    {
     "output_type": "stream",
     "name": "stdout",
     "text": "Counter({'A': 5, 's': 3, 'a': 2, 'd': 1, 'D': 1})\n5\n[('A', 5)]\n"
    }
   ],
   "source": [
    "from collections import Counter\n",
    "\n",
    "list11 = ['a','s','d','s','a','s','A','A','A','A','A','D'] \n",
    "\n",
    "count = Counter(list11)\n",
    "\n",
    "print(count)\n",
    "print(count['A'])\n",
    "print(count.most_common(1))"
   ]
  },
  {
   "cell_type": "markdown",
   "metadata": {},
   "source": [
    "12. 判断字符串所含元素是否相同"
   ],
   "execution_count": null,
   "outputs": []
  },
  {
   "cell_type": "code",
   "execution_count": 122,
   "metadata": {},
   "outputs": [
    {
     "output_type": "stream",
     "name": "stdout",
     "text": "All strings with the same elements.\n"
    }
   ],
   "source": [
    "str12_1, str12_2, str12_3 = 'qwerty', 'ytrewq', 'eqwrty'\n",
    "cn_str12_1, cn_str12_2, cn_str12_3 = Counter(str12_1), Counter(str12_2), Counter(str12_3)\n",
    "\n",
    "if(cn_str12_1 == cn_str12_2 and cn_str12_2 == cn_str12_3):\n",
    "    print('All strings with the same elements.')\n",
    "else:\n",
    "    print('Nope.')\n",
    "\n",
    "# Counter 函数还可以用来判断字符串中包含的元素是否相同，无论字符串中元素顺序如何，只要包含相同的元素和数量，就认为其是相同的。"
   ]
  },
  {
   "cell_type": "markdown",
   "metadata": {},
   "source": [
    "13. 将数字字符串转化为数字列表"
   ],
   "execution_count": null,
   "outputs": []
  },
  {
   "cell_type": "code",
   "execution_count": 123,
   "metadata": {},
   "outputs": [
    {
     "output_type": "stream",
     "name": "stdout",
     "text": "[6, 5, 4, 3, 2, 1, 6, 5, 4]\n[6, 5, 4, 3, 2, 1, 6, 5, 4]\n"
    }
   ],
   "source": [
    "str13 = '654321654'\n",
    "\n",
    "# Method1\n",
    "list13_1 = list(map(int, str13))\n",
    "print(list13_1)\n",
    "\n",
    "# Method2\n",
    "list13_2 = [int(i) for i in str13]\n",
    "print(list13_2)\n",
    "\n",
    "# 上述程序中，方法 1 利用的 map 函数，map 函数可以将 str19 中的每个元素都执行 int 函数，其返回的是一个迭代器，利用 list 函数来将其转化为列表的形式。注意，在 python2 中执行 map 函数就会直接返回列表，而 python3 做了优化，返回的是迭代器，节省了内存。"
   ]
  },
  {
   "cell_type": "markdown",
   "metadata": {},
   "source": [
    "14. 使用 try-except-finally 模块"
   ],
   "execution_count": null,
   "outputs": []
  },
  {
   "cell_type": "code",
   "execution_count": 124,
   "metadata": {},
   "outputs": [
    {
     "output_type": "stream",
     "name": "stdout",
     "text": "'c' is not a list.\nEnd.\n\n[4]\nEnd.\n"
    }
   ],
   "source": [
    "c = 1\n",
    "d = 4\n",
    "\n",
    "try:\n",
    "    c.append(d)\n",
    "except AttributeError as e:\n",
    "    print(\"'c' is not a list.\")\n",
    "else:\n",
    "    print(c)\n",
    "finally:\n",
    "    print('End.')\n",
    "\n",
    "print()\n",
    "\n",
    "c = []\n",
    "d = 4\n",
    "\n",
    "try:\n",
    "    c.append(d)\n",
    "except AttributeError as e:\n",
    "    print(\"'c' is not a list.\")\n",
    "else:\n",
    "    print(c)\n",
    "finally:\n",
    "    print('End.')\n",
    "\n",
    "# 当我们在执行程序时，可能会遇到某些不可预知的错误，使用 try-except 可以帮助我们去捕获这些错误，然后输出提示。注意，如果需要程序无论是否出错，都要执行一些程序的化，需要利用 finally 来实现。"
   ]
  },
  {
   "cell_type": "markdown",
   "metadata": {},
   "source": [
    "15. 使用 enumerate () 函数来获取索引 - 数值对"
   ],
   "execution_count": null,
   "outputs": []
  },
  {
   "cell_type": "code",
   "execution_count": 125,
   "metadata": {},
   "outputs": [
    {
     "output_type": "stream",
     "name": "stdout",
     "text": "0 P\n1 y\n2 t\n3 h\n4 o\n5 n\n\n0 1\n1 2\n2 3\n3 4\n4 5\n"
    }
   ],
   "source": [
    "str15 = 'Python'\n",
    "list15 = [1,2,3,4,5]\n",
    "for i, j in enumerate(str15):\n",
    "    print(i, j)\n",
    "print () \n",
    "\n",
    "for i, j in enumerate(list15):\n",
    "    print(i, j)\n",
    "\n",
    "# enumerate () 函数用于将一个可遍历的数据对象 (如上图的列表，字符串) 组合为一个索引序列。"
   ]
  },
  {
   "cell_type": "markdown",
   "metadata": {},
   "source": [
    "16. 代码执行消耗时间"
   ],
   "execution_count": null,
   "outputs": []
  },
  {
   "cell_type": "code",
   "execution_count": 126,
   "metadata": {},
   "outputs": [
    {
     "output_type": "stream",
     "name": "stdout",
     "text": "Time comsumed:  0.09474587440490723 s\n"
    }
   ],
   "source": [
    "import time\n",
    "start = time.time()\n",
    "\n",
    "num = 0\n",
    "for i in range(1000000):\n",
    "    num = i\n",
    "\n",
    "print('Time comsumed: ', time.time() - start, 's')\n",
    "\n",
    "# 利用 time () 函数，在核心程序开始前记住当前时间点，然后在程序结束后计算当前时间点和核心程序开始前的时间差，可以帮助我们计算程序执行所消耗的时间。"
   ]
  },
  {
   "cell_type": "markdown",
   "metadata": {},
   "source": [
    "17. 检查对象的内存占用情况"
   ],
   "execution_count": null,
   "outputs": []
  },
  {
   "cell_type": "code",
   "execution_count": 127,
   "metadata": {},
   "outputs": [
    {
     "output_type": "stream",
     "name": "stdout",
     "text": "54\n67\n32\n"
    }
   ],
   "source": [
    "import sys\n",
    "str17 = 'a'\n",
    "str17_1 = 'aaddasfsdgasdgasdf'\n",
    "num17 = 3254545454\n",
    "print(sys.getsizeof(str17))\n",
    "print(sys.getsizeof(str17_1))\n",
    "print(sys.getsizeof(num17))\n",
    "\n",
    "# 在 python 中可以使用 sys.getsizeof 来查看元素所占内存的大小。"
   ]
  },
  {
   "cell_type": "markdown",
   "metadata": {},
   "source": [
    "18. 字典的合并"
   ],
   "execution_count": null,
   "outputs": []
  },
  {
   "cell_type": "code",
   "execution_count": 128,
   "metadata": {},
   "outputs": [
    {
     "output_type": "stream",
     "name": "stdout",
     "text": "{'a': 1, 'b': 2, 'c': 3, 'd': 4}\n\n{'a': 1, 'b': 2, 'c': 3, 'd': 4}\n"
    }
   ],
   "source": [
    "dict18_1 = {'a':1, 'b':2}\n",
    "dict18_2 = {'c':3, 'd':4}\n",
    "\n",
    "# Method1\n",
    "combined_dict = {**dict18_1, **dict18_2}\n",
    "print(combined_dict)\n",
    "print()\n",
    "\n",
    "# Method2\n",
    "dict18_1.update(dict18_2)\n",
    "print(dict18_1)\n",
    "\n",
    "# 在 python3 中，提供了新的合并字典的方式，如方法 1 所示，此外 python3 还保留了 python2 的合并字典的方式，如方法 2 所示。"
   ]
  },
  {
   "cell_type": "markdown",
   "metadata": {},
   "source": [
    "19. 随机采样"
   ],
   "execution_count": null,
   "outputs": []
  },
  {
   "cell_type": "code",
   "execution_count": 129,
   "metadata": {},
   "outputs": [
    {
     "output_type": "stream",
     "name": "stdout",
     "text": "[7, 6, 4]\n['w', 'e', 'w']\n"
    }
   ],
   "source": [
    "import random\n",
    "str19 = 'wewewewe'\n",
    "list19 = [1,2,3,4,5,6,7,8]\n",
    "\n",
    "n_samples = 3\n",
    "print(random.sample(list19, n_samples))\n",
    "print(random.sample(str19, n_samples))\n",
    "\n",
    "# 使用 random.sample () 函数，可以从一个序列中选择 n_samples 个随机且独立的元素。"
   ]
  },
  {
   "cell_type": "markdown",
   "metadata": {},
   "source": [
    "20. 检查唯一性"
   ],
   "execution_count": null,
   "outputs": []
  },
  {
   "cell_type": "code",
   "execution_count": 130,
   "metadata": {},
   "outputs": [
    {
     "output_type": "stream",
     "name": "stdout",
     "text": "Not unique!\nUnique!\n"
    }
   ],
   "source": [
    "str20_1 = [1,2,2,3,4,6,7]\n",
    "str20_2 = [1,2,3,4,5,6,7]\n",
    "\n",
    "def if_Unique(seq):\n",
    "    if(len(seq) == len(set(seq))):\n",
    "        print('Unique!')\n",
    "    else:\n",
    "        print('Not unique!')\n",
    "\n",
    "if_Unique(str20_1)\n",
    "if_Unique(str20_2)\n",
    "\n",
    "# 通过检查列表长度是否与 set 后的列表长度一致，来判断列表中的元素是否是独一无二的。"
   ]
  }
 ]
}