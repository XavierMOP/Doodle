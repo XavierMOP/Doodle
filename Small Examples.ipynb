{
 "nbformat": 4,
 "nbformat_minor": 2,
 "metadata": {
  "language_info": {
   "name": "python",
   "codemirror_mode": {
    "name": "ipython",
    "version": 3
   },
   "version": "3.7.6-final"
  },
  "orig_nbformat": 2,
  "file_extension": ".py",
  "mimetype": "text/x-python",
  "name": "python",
  "npconvert_exporter": "python",
  "pygments_lexer": "ipython3",
  "version": 3,
  "kernelspec": {
   "name": "python3",
   "display_name": "Python 3"
  }
 },
 "cells": [
  {
   "cell_type": "markdown",
   "metadata": {},
   "source": [
    "- ## **Sieve of Eratosthenes**"
   ],
   "execution_count": null,
   "outputs": []
  },
  {
   "cell_type": "code",
   "execution_count": null,
   "metadata": {},
   "outputs": [],
   "source": [
    "sieve = [True] * 101\n",
    "for i in range(2, 100):\n",
    "    if sieve[i]:\n",
    "        print(i)\n",
    "        for j in range(i * i, 100, i):\n",
    "            sieve[j] = False"
   ]
  },
  {
   "cell_type": "markdown",
   "metadata": {},
   "source": [
    "- ## **Emoji in Python**\n",
    "\n",
    "### Emoji\n",
    "\n",
    "Change + to 000, add \\ before U\n",
    "\n",
    "Sites:\n",
    "\n",
    "[Emoji Unicode Tables](http://www.unicode.org/emoji/charts/full-emoji-list.html)\n",
    "\n",
    "[Full Emoji List, v13.0](https://apps.timwhitlock.info/emoji/tables/unicode#block-6c-other-additional-symbols)"
   ],
   "execution_count": null,
   "outputs": []
  },
  {
   "cell_type": "code",
   "execution_count": null,
   "metadata": {},
   "outputs": [],
   "source": [
    "sample_list = ['\\U0001F601', '\\U0001F605', '\\U0001F602', '\\U0001F642', '\\U0001F643', '\\U0001F609', '\\U0001F60A', '\\U0001F607', ]\n",
    "\n",
    "print(sample_list)"
   ]
  },
  {
   "cell_type": "markdown",
   "metadata": {},
   "source": [
    "- ## **Binary to ASCII**"
   ],
   "execution_count": null,
   "outputs": []
  },
  {
   "cell_type": "code",
   "execution_count": null,
   "metadata": {},
   "outputs": [],
   "source": [
    "import binascii\n",
    "\n",
    "print('*****\\n')\n",
    "\n",
    "b1 = binascii.a2b_uu('a')\n",
    "b2 = binascii.unhexlify('aa')\n",
    "b3 = bin(235689)\n",
    "b4 = binascii.a2b_qp('033na')\n",
    "b5 = binascii.a2b_qp(\"zaq1xsw2cde3\")\n",
    "\n",
    "print(b1)\n",
    "print(b2)\n",
    "print(b3)\n",
    "print(b4)\n",
    "print(b5)\n",
    "print(\"\\n\")\n",
    ""
   ]
  },
  {
   "cell_type": "markdown",
   "metadata": {},
   "source": [
    "## **Sys package**"
   ],
   "execution_count": null,
   "outputs": []
  },
  {
   "cell_type": "code",
   "execution_count": null,
   "metadata": {},
   "outputs": [],
   "source": [
    "import sys\n",
    "\n",
    "print(sys.version_info)\n",
    "print(sys.version)"
   ]
  }
 ]
}